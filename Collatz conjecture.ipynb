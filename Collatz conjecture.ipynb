{
 "cells": [
  {
   "cell_type": "code",
   "execution_count": 54,
   "metadata": {},
   "outputs": [],
   "source": [
    "# Collatz conjecture https://simple.wikipedia.org/wiki/Collatz_conjecture\n",
    "\n",
    "# exercise: https://www.hackinscience.org/exercises/longest-collatz-sequence \n",
    "# \n",
    "# The Collatz sequence goes like this:\n",
    "# • Start by any number greater than zero.\n",
    "# • If your number is even, divide it by two.\n",
    "# • If your number os odd, multiply by three and add one.\n",
    "# ...it will eventually reach to 1\n",
    "\n",
    "# Please scroll to the end of the document."
   ]
  },
  {
   "cell_type": "code",
   "execution_count": 55,
   "metadata": {},
   "outputs": [],
   "source": [
    "def collatz_seq(n):\n",
    "    buffer = [ ]\n",
    "    buffer.append(str(n))\n",
    "    step = 0\n",
    "    while n != 1:\n",
    "        if n % 2 == 0: # even\n",
    "            n = n // 2\n",
    "            step +=1\n",
    "        else:          # odd\n",
    "            n = n*3 +1\n",
    "            step +=1\n",
    "        buffer.append(str(n))\n",
    "\n",
    "    result = \" → \".join(buffer)\n",
    "    print(result)\n",
    "    print('number of steps:', step)"
   ]
  },
  {
   "cell_type": "code",
   "execution_count": 56,
   "metadata": {},
   "outputs": [
    {
     "name": "stdout",
     "output_type": "stream",
     "text": [
      "1\n",
      "number of steps: 0\n"
     ]
    }
   ],
   "source": [
    "collatz_seq(1)"
   ]
  },
  {
   "cell_type": "code",
   "execution_count": 57,
   "metadata": {},
   "outputs": [
    {
     "name": "stdout",
     "output_type": "stream",
     "text": [
      "2 → 1\n",
      "number of steps: 1\n"
     ]
    }
   ],
   "source": [
    "collatz_seq(2)"
   ]
  },
  {
   "cell_type": "code",
   "execution_count": 58,
   "metadata": {},
   "outputs": [
    {
     "name": "stdout",
     "output_type": "stream",
     "text": [
      "3 → 10 → 5 → 16 → 8 → 4 → 2 → 1\n",
      "number of steps: 7\n"
     ]
    }
   ],
   "source": [
    "collatz_seq(3)"
   ]
  },
  {
   "cell_type": "code",
   "execution_count": 59,
   "metadata": {},
   "outputs": [
    {
     "name": "stdout",
     "output_type": "stream",
     "text": [
      "4 → 2 → 1\n",
      "number of steps: 2\n"
     ]
    }
   ],
   "source": [
    "collatz_seq(4)"
   ]
  },
  {
   "cell_type": "code",
   "execution_count": 60,
   "metadata": {},
   "outputs": [
    {
     "name": "stdout",
     "output_type": "stream",
     "text": [
      "5 → 16 → 8 → 4 → 2 → 1\n",
      "number of steps: 5\n"
     ]
    }
   ],
   "source": [
    "collatz_seq(5)"
   ]
  },
  {
   "cell_type": "code",
   "execution_count": 61,
   "metadata": {},
   "outputs": [
    {
     "name": "stdout",
     "output_type": "stream",
     "text": [
      "6 → 3 → 10 → 5 → 16 → 8 → 4 → 2 → 1\n",
      "number of steps: 8\n"
     ]
    }
   ],
   "source": [
    "collatz_seq(6)"
   ]
  },
  {
   "cell_type": "code",
   "execution_count": 62,
   "metadata": {},
   "outputs": [
    {
     "name": "stdout",
     "output_type": "stream",
     "text": [
      "7 → 22 → 11 → 34 → 17 → 52 → 26 → 13 → 40 → 20 → 10 → 5 → 16 → 8 → 4 → 2 → 1\n",
      "number of steps: 16\n"
     ]
    }
   ],
   "source": [
    "collatz_seq(7)"
   ]
  },
  {
   "cell_type": "code",
   "execution_count": 63,
   "metadata": {},
   "outputs": [
    {
     "name": "stdout",
     "output_type": "stream",
     "text": [
      "8 → 4 → 2 → 1\n",
      "number of steps: 3\n"
     ]
    }
   ],
   "source": [
    "collatz_seq(8)"
   ]
  },
  {
   "cell_type": "code",
   "execution_count": 64,
   "metadata": {},
   "outputs": [
    {
     "name": "stdout",
     "output_type": "stream",
     "text": [
      "9 → 28 → 14 → 7 → 22 → 11 → 34 → 17 → 52 → 26 → 13 → 40 → 20 → 10 → 5 → 16 → 8 → 4 → 2 → 1\n",
      "number of steps: 19\n"
     ]
    }
   ],
   "source": [
    "collatz_seq(9)"
   ]
  },
  {
   "cell_type": "code",
   "execution_count": 65,
   "metadata": {},
   "outputs": [
    {
     "name": "stdout",
     "output_type": "stream",
     "text": [
      "10 → 5 → 16 → 8 → 4 → 2 → 1\n",
      "number of steps: 6\n"
     ]
    }
   ],
   "source": [
    "collatz_seq(10)"
   ]
  },
  {
   "cell_type": "code",
   "execution_count": 66,
   "metadata": {},
   "outputs": [
    {
     "name": "stdout",
     "output_type": "stream",
     "text": [
      "11 → 34 → 17 → 52 → 26 → 13 → 40 → 20 → 10 → 5 → 16 → 8 → 4 → 2 → 1\n",
      "number of steps: 14\n"
     ]
    }
   ],
   "source": [
    "collatz_seq(11)"
   ]
  },
  {
   "cell_type": "code",
   "execution_count": 67,
   "metadata": {},
   "outputs": [
    {
     "name": "stdout",
     "output_type": "stream",
     "text": [
      "12 → 6 → 3 → 10 → 5 → 16 → 8 → 4 → 2 → 1\n",
      "number of steps: 9\n"
     ]
    }
   ],
   "source": [
    "collatz_seq(12)"
   ]
  },
  {
   "cell_type": "code",
   "execution_count": 68,
   "metadata": {},
   "outputs": [
    {
     "name": "stdout",
     "output_type": "stream",
     "text": [
      "13 → 40 → 20 → 10 → 5 → 16 → 8 → 4 → 2 → 1\n",
      "number of steps: 9\n"
     ]
    }
   ],
   "source": [
    "collatz_seq(13)"
   ]
  },
  {
   "cell_type": "code",
   "execution_count": 69,
   "metadata": {},
   "outputs": [
    {
     "name": "stdout",
     "output_type": "stream",
     "text": [
      "14 → 7 → 22 → 11 → 34 → 17 → 52 → 26 → 13 → 40 → 20 → 10 → 5 → 16 → 8 → 4 → 2 → 1\n",
      "number of steps: 17\n"
     ]
    }
   ],
   "source": [
    "collatz_seq(14)"
   ]
  },
  {
   "cell_type": "code",
   "execution_count": 70,
   "metadata": {},
   "outputs": [
    {
     "name": "stdout",
     "output_type": "stream",
     "text": [
      "15 → 46 → 23 → 70 → 35 → 106 → 53 → 160 → 80 → 40 → 20 → 10 → 5 → 16 → 8 → 4 → 2 → 1\n",
      "number of steps: 17\n"
     ]
    }
   ],
   "source": [
    "collatz_seq(15)"
   ]
  },
  {
   "cell_type": "code",
   "execution_count": 71,
   "metadata": {},
   "outputs": [
    {
     "name": "stdout",
     "output_type": "stream",
     "text": [
      "16 → 8 → 4 → 2 → 1\n",
      "number of steps: 4\n"
     ]
    }
   ],
   "source": [
    "collatz_seq(16)"
   ]
  },
  {
   "cell_type": "code",
   "execution_count": 72,
   "metadata": {},
   "outputs": [
    {
     "name": "stdout",
     "output_type": "stream",
     "text": [
      "17 → 52 → 26 → 13 → 40 → 20 → 10 → 5 → 16 → 8 → 4 → 2 → 1\n",
      "number of steps: 12\n"
     ]
    }
   ],
   "source": [
    "collatz_seq(17)"
   ]
  },
  {
   "cell_type": "code",
   "execution_count": 73,
   "metadata": {},
   "outputs": [
    {
     "name": "stdout",
     "output_type": "stream",
     "text": [
      "18 → 9 → 28 → 14 → 7 → 22 → 11 → 34 → 17 → 52 → 26 → 13 → 40 → 20 → 10 → 5 → 16 → 8 → 4 → 2 → 1\n",
      "number of steps: 20\n"
     ]
    }
   ],
   "source": [
    "collatz_seq(18)"
   ]
  },
  {
   "cell_type": "code",
   "execution_count": 74,
   "metadata": {},
   "outputs": [
    {
     "name": "stdout",
     "output_type": "stream",
     "text": [
      "19 → 58 → 29 → 88 → 44 → 22 → 11 → 34 → 17 → 52 → 26 → 13 → 40 → 20 → 10 → 5 → 16 → 8 → 4 → 2 → 1\n",
      "number of steps: 20\n"
     ]
    }
   ],
   "source": [
    "collatz_seq(19)"
   ]
  },
  {
   "cell_type": "code",
   "execution_count": 75,
   "metadata": {},
   "outputs": [
    {
     "name": "stdout",
     "output_type": "stream",
     "text": [
      "20 → 10 → 5 → 16 → 8 → 4 → 2 → 1\n",
      "number of steps: 7\n"
     ]
    }
   ],
   "source": [
    "collatz_seq(20)"
   ]
  },
  {
   "attachments": {},
   "cell_type": "markdown",
   "metadata": {},
   "source": [
    "# let's modify our function to see how would it look for the first hundred numbers"
   ]
  },
  {
   "cell_type": "code",
   "execution_count": 1,
   "metadata": {},
   "outputs": [
    {
     "name": "stdout",
     "output_type": "stream",
     "text": [
      "\n",
      "→\n",
      "→→→→→→→\n",
      "→→\n",
      "→→→→→\n",
      "→→→→→→→→\n",
      "→→→→→→→→→→→→→→→→\n",
      "→→→\n",
      "→→→→→→→→→→→→→→→→→→→\n",
      "→→→→→→\n",
      "→→→→→→→→→→→→→→\n",
      "→→→→→→→→→\n",
      "→→→→→→→→→\n",
      "→→→→→→→→→→→→→→→→→\n",
      "→→→→→→→→→→→→→→→→→\n",
      "→→→→\n",
      "→→→→→→→→→→→→\n",
      "→→→→→→→→→→→→→→→→→→→→\n",
      "→→→→→→→→→→→→→→→→→→→→\n",
      "→→→→→→→\n",
      "→→→→→→→\n",
      "→→→→→→→→→→→→→→→\n",
      "→→→→→→→→→→→→→→→\n",
      "→→→→→→→→→→\n",
      "→→→→→→→→→→→→→→→→→→→→→→→\n",
      "→→→→→→→→→→\n",
      "→→→→→→→→→→→→→→→→→→→→→→→→→→→→→→→→→→→→→→→→→→→→→→→→→→→→→→→→→→→→→→→→→→→→→→→→→→→→→→→→→→→→→→→→→→→→→→→→→→→→→→→→→→→→→→→\n",
      "→→→→→→→→→→→→→→→→→→\n",
      "→→→→→→→→→→→→→→→→→→\n",
      "→→→→→→→→→→→→→→→→→→\n",
      "→→→→→→→→→→→→→→→→→→→→→→→→→→→→→→→→→→→→→→→→→→→→→→→→→→→→→→→→→→→→→→→→→→→→→→→→→→→→→→→→→→→→→→→→→→→→→→→→→→→→→→→→→→\n",
      "→→→→→\n",
      "→→→→→→→→→→→→→→→→→→→→→→→→→→\n",
      "→→→→→→→→→→→→→\n",
      "→→→→→→→→→→→→→\n",
      "→→→→→→→→→→→→→→→→→→→→→\n",
      "→→→→→→→→→→→→→→→→→→→→→\n",
      "→→→→→→→→→→→→→→→→→→→→→\n",
      "→→→→→→→→→→→→→→→→→→→→→→→→→→→→→→→→→→\n",
      "→→→→→→→→\n",
      "→→→→→→→→→→→→→→→→→→→→→→→→→→→→→→→→→→→→→→→→→→→→→→→→→→→→→→→→→→→→→→→→→→→→→→→→→→→→→→→→→→→→→→→→→→→→→→→→→→→→→→→→→→→→→\n",
      "→→→→→→→→\n",
      "→→→→→→→→→→→→→→→→→→→→→→→→→→→→→\n",
      "→→→→→→→→→→→→→→→→\n",
      "→→→→→→→→→→→→→→→→\n",
      "→→→→→→→→→→→→→→→→\n",
      "→→→→→→→→→→→→→→→→→→→→→→→→→→→→→→→→→→→→→→→→→→→→→→→→→→→→→→→→→→→→→→→→→→→→→→→→→→→→→→→→→→→→→→→→→→→→→→→→→→→→→→→→\n",
      "→→→→→→→→→→→\n",
      "→→→→→→→→→→→→→→→→→→→→→→→→\n",
      "→→→→→→→→→→→→→→→→→→→→→→→→\n",
      "→→→→→→→→→→→→→→→→→→→→→→→→\n",
      "→→→→→→→→→→→\n",
      "→→→→→→→→→→→\n",
      "→→→→→→→→→→→→→→→→→→→→→→→→→→→→→→→→→→→→→→→→→→→→→→→→→→→→→→→→→→→→→→→→→→→→→→→→→→→→→→→→→→→→→→→→→→→→→→→→→→→→→→→→→→→→→→→→\n",
      "→→→→→→→→→→→→→→→→→→→→→→→→→→→→→→→→→→→→→→→→→→→→→→→→→→→→→→→→→→→→→→→→→→→→→→→→→→→→→→→→→→→→→→→→→→→→→→→→→→→→→→→→→→→→→→→→\n",
      "→→→→→→→→→→→→→→→→→→→\n",
      "→→→→→→→→→→→→→→→→→→→→→→→→→→→→→→→→\n",
      "→→→→→→→→→→→→→→→→→→→\n",
      "→→→→→→→→→→→→→→→→→→→→→→→→→→→→→→→→\n",
      "→→→→→→→→→→→→→→→→→→→\n",
      "→→→→→→→→→→→→→→→→→→→\n",
      "→→→→→→→→→→→→→→→→→→→→→→→→→→→→→→→→→→→→→→→→→→→→→→→→→→→→→→→→→→→→→→→→→→→→→→→→→→→→→→→→→→→→→→→→→→→→→→→→→→→→→→→→→→→\n",
      "→→→→→→→→→→→→→→→→→→→→→→→→→→→→→→→→→→→→→→→→→→→→→→→→→→→→→→→→→→→→→→→→→→→→→→→→→→→→→→→→→→→→→→→→→→→→→→→→→→→→→→→→→→→\n",
      "→→→→→→\n",
      "→→→→→→→→→→→→→→→→→→→→→→→→→→→\n",
      "→→→→→→→→→→→→→→→→→→→→→→→→→→→\n",
      "→→→→→→→→→→→→→→→→→→→→→→→→→→→\n",
      "→→→→→→→→→→→→→→\n",
      "→→→→→→→→→→→→→→\n",
      "→→→→→→→→→→→→→→\n",
      "→→→→→→→→→→→→→→→→→→→→→→→→→→→→→→→→→→→→→→→→→→→→→→→→→→→→→→→→→→→→→→→→→→→→→→→→→→→→→→→→→→→→→→→→→→→→→→→→→→→→→→\n",
      "→→→→→→→→→→→→→→→→→→→→→→\n",
      "→→→→→→→→→→→→→→→→→→→→→→→→→→→→→→→→→→→→→→→→→→→→→→→→→→→→→→→→→→→→→→→→→→→→→→→→→→→→→→→→→→→→→→→→→→→→→→→→→→→→→→→→→→→→→→→→→→→\n",
      "→→→→→→→→→→→→→→→→→→→→→→\n",
      "→→→→→→→→→→→→→→\n",
      "→→→→→→→→→→→→→→→→→→→→→→\n",
      "→→→→→→→→→→→→→→→→→→→→→→\n",
      "→→→→→→→→→→→→→→→→→→→→→→→→→→→→→→→→→→→\n",
      "→→→→→→→→→→→→→→→→→→→→→→→→→→→→→→→→→→→\n",
      "→→→→→→→→→\n",
      "→→→→→→→→→→→→→→→→→→→→→→\n",
      "→→→→→→→→→→→→→→→→→→→→→→→→→→→→→→→→→→→→→→→→→→→→→→→→→→→→→→→→→→→→→→→→→→→→→→→→→→→→→→→→→→→→→→→→→→→→→→→→→→→→→→→→→→→→→→\n",
      "→→→→→→→→→→→→→→→→→→→→→→→→→→→→→→→→→→→→→→→→→→→→→→→→→→→→→→→→→→→→→→→→→→→→→→→→→→→→→→→→→→→→→→→→→→→→→→→→→→→→→→→→→→→→→→\n",
      "→→→→→→→→→\n",
      "→→→→→→→→→\n",
      "→→→→→→→→→→→→→→→→→→→→→→→→→→→→→→\n",
      "→→→→→→→→→→→→→→→→→→→→→→→→→→→→→→\n",
      "→→→→→→→→→→→→→→→→→\n",
      "→→→→→→→→→→→→→→→→→→→→→→→→→→→→→→\n",
      "→→→→→→→→→→→→→→→→→\n",
      "→→→→→→→→→→→→→→→→→→→→→→→→→→→→→→→→→→→→→→→→→→→→→→→→→→→→→→→→→→→→→→→→→→→→→→→→→→→→→→→→→→→→→→→→→→→→\n",
      "→→→→→→→→→→→→→→→→→\n",
      "→→→→→→→→→→→→→→→→→\n",
      "→→→→→→→→→→→→→→→→→→→→→→→→→→→→→→→→→→→→→→→→→→→→→→→→→→→→→→→→→→→→→→→→→→→→→→→→→→→→→→→→→→→→→→→→→→→→→→→→→→→→→→→→→\n",
      "→→→→→→→→→→→→→→→→→→→→→→→→→→→→→→→→→→→→→→→→→→→→→→→→→→→→→→→→→→→→→→→→→→→→→→→→→→→→→→→→→→→→→→→→→→→→→→→→→→→→→→→→→\n",
      "→→→→→→→→→→→→\n",
      "→→→→→→→→→→→→→→→→→→→→→→→→→→→→→→→→→→→→→→→→→→→→→→→→→→→→→→→→→→→→→→→→→→→→→→→→→→→→→→→→→→→→→→→→→→→→→→→→→→→→→→→→→→→→→→→→→→→→→→\n",
      "→→→→→→→→→→→→→→→→→→→→→→→→→\n",
      "→→→→→→→→→→→→→→→→→→→→→→→→→\n",
      "→→→→→→→→→→→→→→→→→→→→→→→→→\n"
     ]
    }
   ],
   "source": [
    "def collatz_seq(n):\n",
    "    step = 0\n",
    "    while n != 1:\n",
    "        if n % 2 == 0: # even\n",
    "            n = n // 2\n",
    "            step +=1\n",
    "        else:          # odd\n",
    "            n = n*3 +1\n",
    "            step +=1\n",
    "\n",
    "    result = \"→\"*step\n",
    "    print(result)\n",
    "\n",
    "for i in range(1,101):\n",
    "    collatz_seq(i)"
   ]
  }
 ],
 "metadata": {
  "kernelspec": {
   "display_name": "Python 3",
   "language": "python",
   "name": "python3"
  },
  "language_info": {
   "codemirror_mode": {
    "name": "ipython",
    "version": 3
   },
   "file_extension": ".py",
   "mimetype": "text/x-python",
   "name": "python",
   "nbconvert_exporter": "python",
   "pygments_lexer": "ipython3",
   "version": "3.11.1"
  },
  "orig_nbformat": 4
 },
 "nbformat": 4,
 "nbformat_minor": 2
}
