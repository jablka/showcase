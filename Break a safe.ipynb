{
 "cells": [
  {
   "cell_type": "code",
   "execution_count": 1,
   "metadata": {},
   "outputs": [],
   "source": [
    "# if password has four digits and uses only numbers 1,5,8 ; what are possible combinations?\n",
    "\n",
    "# challenge https://www.hackinscience.org/exercises/break-a-safe"
   ]
  },
  {
   "cell_type": "code",
   "execution_count": 2,
   "metadata": {},
   "outputs": [
    {
     "name": "stdout",
     "output_type": "stream",
     "text": [
      "1 1 5 8\n",
      "1 1 8 5\n",
      "1 5 1 8\n",
      "1 5 5 8\n",
      "1 5 8 1\n",
      "1 5 8 5\n",
      "1 5 8 8\n",
      "1 8 1 5\n",
      "1 8 5 1\n",
      "1 8 5 5\n",
      "1 8 5 8\n",
      "1 8 8 5\n",
      "5 1 1 8\n",
      "5 1 5 8\n",
      "5 1 8 1\n",
      "5 1 8 5\n",
      "5 1 8 8\n",
      "5 5 1 8\n",
      "5 5 8 1\n",
      "5 8 1 1\n",
      "5 8 1 5\n",
      "5 8 1 8\n",
      "5 8 5 1\n",
      "5 8 8 1\n",
      "8 1 1 5\n",
      "8 1 5 1\n",
      "8 1 5 5\n",
      "8 1 5 8\n",
      "8 1 8 5\n",
      "8 5 1 1\n",
      "8 5 1 5\n",
      "8 5 1 8\n",
      "8 5 5 1\n",
      "8 5 8 1\n",
      "8 8 1 5\n",
      "8 8 5 1\n"
     ]
    }
   ],
   "source": [
    "import itertools\n",
    "mylist = [1,5,8]\n",
    "product = list(itertools.product(mylist, repeat=4))\n",
    "for i in product:\n",
    "    if (1 in i) and (5 in i) and (8 in i):\n",
    "        print(*i, sep=' ')"
   ]
  },
  {
   "cell_type": "code",
   "execution_count": null,
   "metadata": {},
   "outputs": [],
   "source": []
  }
 ],
 "metadata": {
  "kernelspec": {
   "display_name": "Python 3",
   "language": "python",
   "name": "python3"
  },
  "language_info": {
   "codemirror_mode": {
    "name": "ipython",
    "version": 3
   },
   "file_extension": ".py",
   "mimetype": "text/x-python",
   "name": "python",
   "nbconvert_exporter": "python",
   "pygments_lexer": "ipython3",
   "version": "3.11.1"
  },
  "orig_nbformat": 4
 },
 "nbformat": 4,
 "nbformat_minor": 2
}
