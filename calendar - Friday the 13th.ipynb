{
 "cells": [
  {
   "cell_type": "code",
   "execution_count": 1,
   "metadata": {},
   "outputs": [],
   "source": [
    "# Write a function named friday_the_13th, \n",
    "# which takes no parameter, \n",
    "# and just returns the date of the next friday the 13th.\n",
    "#\n",
    "# challenge https://www.hackinscience.org/exercises/friday-the-13th"
   ]
  },
  {
   "cell_type": "code",
   "execution_count": 2,
   "metadata": {},
   "outputs": [],
   "source": [
    "import datetime\n",
    "import calendar\n",
    "\n",
    "def friday_the_13th():\n",
    "\n",
    "    datum = datetime.date.today()\n",
    "\n",
    "    # či je dnes?\n",
    "    if datum.day == 13 and datum.weekday() == 4:\n",
    "        # print(datum)\n",
    "        return str(datum)\n",
    "    \n",
    "    # či je v tomto mesiaci\n",
    "    elif datum.day < 13:\n",
    "        day = 13\n",
    "        month = datum.month\n",
    "        year = datum.year\n",
    "        \n",
    "        future_day = calendar.weekday(year, month, day)\n",
    "        if future_day == 4:\n",
    "            vysledok = datetime.date(year, month, day)\n",
    "            # print(vysledok)        \n",
    "            return str(vysledok)\n",
    "\n",
    "    # postupujeme v iterácii mesiacov / rokov\n",
    "    day = 13\n",
    "    month = datum.month\n",
    "    year = datum.year\n",
    "\n",
    "    vysledok = None\n",
    "    while not vysledok:\n",
    "                  \n",
    "        if month == 12:\n",
    "            month = 1\n",
    "            year += 1\n",
    "        else:\n",
    "            month +=1\n",
    "\n",
    "        future_day = calendar.weekday(year, month, day)\n",
    "        if future_day == 4:\n",
    "            vysledok = datetime.date(year, month, day)\n",
    "            # print(vysledok)\n",
    "\n",
    "    return str(vysledok)"
   ]
  },
  {
   "cell_type": "code",
   "execution_count": 3,
   "metadata": {},
   "outputs": [
    {
     "name": "stdout",
     "output_type": "stream",
     "text": [
      "2023-10-13\n"
     ]
    }
   ],
   "source": [
    "print(friday_the_13th())"
   ]
  },
  {
   "cell_type": "code",
   "execution_count": null,
   "metadata": {},
   "outputs": [],
   "source": []
  }
 ],
 "metadata": {
  "kernelspec": {
   "display_name": "Python 3",
   "language": "python",
   "name": "python3"
  },
  "language_info": {
   "codemirror_mode": {
    "name": "ipython",
    "version": 3
   },
   "file_extension": ".py",
   "mimetype": "text/x-python",
   "name": "python",
   "nbconvert_exporter": "python",
   "pygments_lexer": "ipython3",
   "version": "3.11.1"
  },
  "orig_nbformat": 4
 },
 "nbformat": 4,
 "nbformat_minor": 2
}
