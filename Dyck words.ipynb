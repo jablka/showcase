{
 "cells": [
  {
   "cell_type": "code",
   "execution_count": 1,
   "metadata": {},
   "outputs": [],
   "source": [
    "# Dyck words and language are named after the mathematician Walther von Dyck. https://en.wikipedia.org/wiki/Dyck_language\n",
    "\n",
    "# A Dyck word is a word composed of two symbols, typically ( and ). \n",
    "# A Dyck word have to be \"well-parenthesized\".\n",
    "\n",
    "# challenge https://www.hackinscience.org/exercises/dyck-words"
   ]
  },
  {
   "cell_type": "code",
   "execution_count": 2,
   "metadata": {},
   "outputs": [],
   "source": [
    "def is_a_dyck_word(word: str) -> bool:\n",
    "\n",
    "    if bool(word) == False: # word = \"\" , should evaluate to True\n",
    "        return True\n",
    "\n",
    "    if len(set(word)) != 2: # word should have precisely two kinds of characters\n",
    "        return False\n",
    "\n",
    "    characters = tuple(set(word))\n",
    "    if word.count(characters[0]) != word.count(characters[1]):\n",
    "        return False # musí byť rovnaký počet obidvoch znakov / equal count of both characters     \n",
    "    \n",
    "    initial = word[0] # initial character\n",
    "    buffer = [ ]\n",
    "    for i in range(len(word) ):\n",
    "\n",
    "        if word[i]==initial: # if encounter initial character, append it to buffer\n",
    "            buffer.append(word[i])\n",
    "        \n",
    "        else:\n",
    "            if len(buffer)>0: \n",
    "                buffer.pop() # if we have closing character, pop the buffer\n",
    "            else:\n",
    "                return False # if the buffer is already empty, word can't be a 'Dyck word'\n",
    "\n",
    "    return True\n"
   ]
  },
  {
   "cell_type": "code",
   "execution_count": 3,
   "metadata": {},
   "outputs": [],
   "source": [
    "assert is_a_dyck_word(\"\") is True\n",
    "assert is_a_dyck_word(\"()\") is True\n",
    "assert is_a_dyck_word(\")(\") is True\n",
    "assert is_a_dyck_word(\"(((())))\") is True\n",
    "assert is_a_dyck_word(\"()()()()\") is True\n",
    "assert is_a_dyck_word(\"()(())()\") is True\n",
    "assert is_a_dyck_word(\"(((\") is False\n",
    "assert is_a_dyck_word(\"((()\") is False\n",
    "assert is_a_dyck_word(\"()))\") is False\n",
    "assert is_a_dyck_word(\"()()()(\") is False"
   ]
  },
  {
   "cell_type": "code",
   "execution_count": 4,
   "metadata": {},
   "outputs": [],
   "source": [
    "assert is_a_dyck_word(\"ABC\") is False"
   ]
  },
  {
   "cell_type": "code",
   "execution_count": 5,
   "metadata": {},
   "outputs": [],
   "source": [
    "assert is_a_dyck_word(\"[]\") is True\n",
    "assert is_a_dyck_word(\"{}\") is True\n",
    "assert is_a_dyck_word(\"<>\") is True\n",
    "assert is_a_dyck_word(\"[[]]\") is True\n",
    "assert is_a_dyck_word(\"{{}}\") is True\n",
    "assert is_a_dyck_word(\"<<>>\") is True\n",
    "assert is_a_dyck_word(\"[][]\") is True\n",
    "assert is_a_dyck_word(\"{}{}\") is True\n",
    "assert is_a_dyck_word(\"<><>\") is True"
   ]
  },
  {
   "cell_type": "code",
   "execution_count": 6,
   "metadata": {},
   "outputs": [],
   "source": [
    "assert is_a_dyck_word(\"AB\") is True\n",
    "assert is_a_dyck_word(\"ABAB\") is True\n",
    "assert is_a_dyck_word(\"AABB\") is True\n",
    "assert is_a_dyck_word(\"AABBAB\") is True\n",
    "assert is_a_dyck_word(\"AAABBB\") is True\n",
    "assert is_a_dyck_word(\"ABABAB\") is True"
   ]
  },
  {
   "cell_type": "code",
   "execution_count": 7,
   "metadata": {},
   "outputs": [],
   "source": [
    "assert is_a_dyck_word(\",.\") is True\n",
    "assert is_a_dyck_word(\",.,.\") is True\n",
    "assert is_a_dyck_word(\"..,,\") is True\n",
    "assert is_a_dyck_word(\"dodo\") is True\n",
    "assert is_a_dyck_word(\"mama\") is True\n",
    "assert is_a_dyck_word(\"papa\") is True\n",
    "assert is_a_dyck_word(\"tutu\") is True"
   ]
  },
  {
   "cell_type": "code",
   "execution_count": null,
   "metadata": {},
   "outputs": [],
   "source": []
  }
 ],
 "metadata": {
  "kernelspec": {
   "display_name": "Python 3",
   "language": "python",
   "name": "python3"
  },
  "language_info": {
   "codemirror_mode": {
    "name": "ipython",
    "version": 3
   },
   "file_extension": ".py",
   "mimetype": "text/x-python",
   "name": "python",
   "nbconvert_exporter": "python",
   "pygments_lexer": "ipython3",
   "version": "3.11.1"
  },
  "orig_nbformat": 4
 },
 "nbformat": 4,
 "nbformat_minor": 2
}
