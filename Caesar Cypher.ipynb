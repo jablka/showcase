{
 "cells": [
  {
   "cell_type": "code",
   "execution_count": 5,
   "metadata": {},
   "outputs": [],
   "source": [
    "# implement Caesar Cypher\n",
    "\n",
    "# challenge https://www.hackinscience.org/exercises/caesar-cypher"
   ]
  },
  {
   "cell_type": "code",
   "execution_count": 6,
   "metadata": {},
   "outputs": [],
   "source": [
    "import string\n",
    "\n",
    "def caesar_cypher_encrypt(s, key):\n",
    "    alfabet = list(string.ascii_lowercase)\n",
    "    alfabet_size = len(alfabet)\n",
    "    vysl = ''\n",
    "    for letter in s:\n",
    "        if letter.isalpha():\n",
    "            index = alfabet.index(letter.lower()) + key\n",
    "            index = index % alfabet_size\n",
    "            if letter.isupper():\n",
    "                vysl += alfabet[index].upper()\n",
    "            else:\n",
    "                vysl += alfabet[index]\n",
    "        else:\n",
    "            vysl += letter\n",
    "    # print(vysl)\n",
    "    return(vysl)\n",
    "\n",
    "\n",
    "def caesar_cypher_decrypt(s, key):\n",
    "    alfabet = list(string.ascii_lowercase)\n",
    "    alfabet_size = len(alfabet)\n",
    "    vysl = ''\n",
    "    for letter in s:\n",
    "        if letter.isalpha():\n",
    "            index = alfabet.index(letter.lower()) - key\n",
    "            index = index % alfabet_size\n",
    "            if letter.isupper():\n",
    "                vysl += alfabet[index].upper()\n",
    "            else:\n",
    "                vysl += alfabet[index]\n",
    "        else:\n",
    "            vysl += letter\n",
    "    # print(vysl)\n",
    "    return(vysl)\n"
   ]
  },
  {
   "cell_type": "code",
   "execution_count": 7,
   "metadata": {},
   "outputs": [
    {
     "name": "stdout",
     "output_type": "stream",
     "text": [
      "Udymts nx xzujw inxht !\n",
      "Python is super disco !\n"
     ]
    }
   ],
   "source": [
    "print(caesar_cypher_encrypt(\"Python is super disco !\", 31))\n",
    "print(caesar_cypher_decrypt(\"Udymts nx xzujw inxht !\", 31))"
   ]
  },
  {
   "cell_type": "code",
   "execution_count": null,
   "metadata": {},
   "outputs": [],
   "source": []
  }
 ],
 "metadata": {
  "kernelspec": {
   "display_name": "Python 3",
   "language": "python",
   "name": "python3"
  },
  "language_info": {
   "codemirror_mode": {
    "name": "ipython",
    "version": 3
   },
   "file_extension": ".py",
   "mimetype": "text/x-python",
   "name": "python",
   "nbconvert_exporter": "python",
   "pygments_lexer": "ipython3",
   "version": "3.11.1"
  },
  "orig_nbformat": 4
 },
 "nbformat": 4,
 "nbformat_minor": 2
}
