{
 "cells": [
  {
   "cell_type": "code",
   "execution_count": 24,
   "metadata": {},
   "outputs": [],
   "source": [
    "# challenge from https://www.hackinscience.org/exercises/draw-n-squares"
   ]
  },
  {
   "cell_type": "code",
   "execution_count": 25,
   "metadata": {},
   "outputs": [],
   "source": [
    "def draw_n_squares(n):\n",
    "    roof = '+---'\n",
    "    mid = '|   '\n",
    "    floor = '+---'\n",
    "\n",
    "    vysledok = ''\n",
    "\n",
    "    mylist = [ ]\n",
    "    for i in range(n):\n",
    "        roof_ = roof * n\n",
    "        mid_ = mid * n\n",
    "        floor_ = floor * n\n",
    "        mylist.append(roof_ + '+\\n' + mid_ + '|\\n')\n",
    "\n",
    "    mylist.append(floor_ + '+\\n')\n",
    "\n",
    "    for i in mylist:\n",
    "        vysledok += i\n",
    "\n",
    "    return vysledok"
   ]
  },
  {
   "cell_type": "code",
   "execution_count": 26,
   "metadata": {},
   "outputs": [
    {
     "name": "stdout",
     "output_type": "stream",
     "text": [
      "+---+\n",
      "|   |\n",
      "+---+\n",
      "\n"
     ]
    }
   ],
   "source": [
    "print(draw_n_squares(1))"
   ]
  },
  {
   "cell_type": "code",
   "execution_count": 27,
   "metadata": {},
   "outputs": [
    {
     "name": "stdout",
     "output_type": "stream",
     "text": [
      "+---+---+\n",
      "|   |   |\n",
      "+---+---+\n",
      "|   |   |\n",
      "+---+---+\n",
      "\n"
     ]
    }
   ],
   "source": [
    "print(draw_n_squares(2))"
   ]
  },
  {
   "cell_type": "code",
   "execution_count": 28,
   "metadata": {},
   "outputs": [
    {
     "name": "stdout",
     "output_type": "stream",
     "text": [
      "+---+---+---+\n",
      "|   |   |   |\n",
      "+---+---+---+\n",
      "|   |   |   |\n",
      "+---+---+---+\n",
      "|   |   |   |\n",
      "+---+---+---+\n",
      "\n"
     ]
    }
   ],
   "source": [
    "print(draw_n_squares(3))"
   ]
  },
  {
   "cell_type": "code",
   "execution_count": 29,
   "metadata": {},
   "outputs": [
    {
     "name": "stdout",
     "output_type": "stream",
     "text": [
      "+---+---+---+---+\n",
      "|   |   |   |   |\n",
      "+---+---+---+---+\n",
      "|   |   |   |   |\n",
      "+---+---+---+---+\n",
      "|   |   |   |   |\n",
      "+---+---+---+---+\n",
      "|   |   |   |   |\n",
      "+---+---+---+---+\n",
      "\n"
     ]
    }
   ],
   "source": [
    "print(draw_n_squares(4))"
   ]
  },
  {
   "cell_type": "code",
   "execution_count": 30,
   "metadata": {},
   "outputs": [
    {
     "name": "stdout",
     "output_type": "stream",
     "text": [
      "+---+---+---+---+---+\n",
      "|   |   |   |   |   |\n",
      "+---+---+---+---+---+\n",
      "|   |   |   |   |   |\n",
      "+---+---+---+---+---+\n",
      "|   |   |   |   |   |\n",
      "+---+---+---+---+---+\n",
      "|   |   |   |   |   |\n",
      "+---+---+---+---+---+\n",
      "|   |   |   |   |   |\n",
      "+---+---+---+---+---+\n",
      "\n"
     ]
    }
   ],
   "source": [
    "print(draw_n_squares(5))"
   ]
  },
  {
   "cell_type": "code",
   "execution_count": 31,
   "metadata": {},
   "outputs": [
    {
     "name": "stdout",
     "output_type": "stream",
     "text": [
      "+---+---+---+---+---+---+\n",
      "|   |   |   |   |   |   |\n",
      "+---+---+---+---+---+---+\n",
      "|   |   |   |   |   |   |\n",
      "+---+---+---+---+---+---+\n",
      "|   |   |   |   |   |   |\n",
      "+---+---+---+---+---+---+\n",
      "|   |   |   |   |   |   |\n",
      "+---+---+---+---+---+---+\n",
      "|   |   |   |   |   |   |\n",
      "+---+---+---+---+---+---+\n",
      "|   |   |   |   |   |   |\n",
      "+---+---+---+---+---+---+\n",
      "\n"
     ]
    }
   ],
   "source": [
    "print(draw_n_squares(6))"
   ]
  },
  {
   "cell_type": "code",
   "execution_count": 32,
   "metadata": {},
   "outputs": [
    {
     "name": "stdout",
     "output_type": "stream",
     "text": [
      "+---+---+---+---+---+---+---+\n",
      "|   |   |   |   |   |   |   |\n",
      "+---+---+---+---+---+---+---+\n",
      "|   |   |   |   |   |   |   |\n",
      "+---+---+---+---+---+---+---+\n",
      "|   |   |   |   |   |   |   |\n",
      "+---+---+---+---+---+---+---+\n",
      "|   |   |   |   |   |   |   |\n",
      "+---+---+---+---+---+---+---+\n",
      "|   |   |   |   |   |   |   |\n",
      "+---+---+---+---+---+---+---+\n",
      "|   |   |   |   |   |   |   |\n",
      "+---+---+---+---+---+---+---+\n",
      "|   |   |   |   |   |   |   |\n",
      "+---+---+---+---+---+---+---+\n",
      "\n"
     ]
    }
   ],
   "source": [
    "print(draw_n_squares(7))"
   ]
  },
  {
   "cell_type": "code",
   "execution_count": 33,
   "metadata": {},
   "outputs": [
    {
     "name": "stdout",
     "output_type": "stream",
     "text": [
      "+---+---+---+---+---+---+---+---+\n",
      "|   |   |   |   |   |   |   |   |\n",
      "+---+---+---+---+---+---+---+---+\n",
      "|   |   |   |   |   |   |   |   |\n",
      "+---+---+---+---+---+---+---+---+\n",
      "|   |   |   |   |   |   |   |   |\n",
      "+---+---+---+---+---+---+---+---+\n",
      "|   |   |   |   |   |   |   |   |\n",
      "+---+---+---+---+---+---+---+---+\n",
      "|   |   |   |   |   |   |   |   |\n",
      "+---+---+---+---+---+---+---+---+\n",
      "|   |   |   |   |   |   |   |   |\n",
      "+---+---+---+---+---+---+---+---+\n",
      "|   |   |   |   |   |   |   |   |\n",
      "+---+---+---+---+---+---+---+---+\n",
      "|   |   |   |   |   |   |   |   |\n",
      "+---+---+---+---+---+---+---+---+\n",
      "\n"
     ]
    }
   ],
   "source": [
    "print(draw_n_squares(8))"
   ]
  },
  {
   "cell_type": "code",
   "execution_count": 34,
   "metadata": {},
   "outputs": [
    {
     "name": "stdout",
     "output_type": "stream",
     "text": [
      "+---+---+---+---+---+---+---+---+---+\n",
      "|   |   |   |   |   |   |   |   |   |\n",
      "+---+---+---+---+---+---+---+---+---+\n",
      "|   |   |   |   |   |   |   |   |   |\n",
      "+---+---+---+---+---+---+---+---+---+\n",
      "|   |   |   |   |   |   |   |   |   |\n",
      "+---+---+---+---+---+---+---+---+---+\n",
      "|   |   |   |   |   |   |   |   |   |\n",
      "+---+---+---+---+---+---+---+---+---+\n",
      "|   |   |   |   |   |   |   |   |   |\n",
      "+---+---+---+---+---+---+---+---+---+\n",
      "|   |   |   |   |   |   |   |   |   |\n",
      "+---+---+---+---+---+---+---+---+---+\n",
      "|   |   |   |   |   |   |   |   |   |\n",
      "+---+---+---+---+---+---+---+---+---+\n",
      "|   |   |   |   |   |   |   |   |   |\n",
      "+---+---+---+---+---+---+---+---+---+\n",
      "|   |   |   |   |   |   |   |   |   |\n",
      "+---+---+---+---+---+---+---+---+---+\n",
      "\n"
     ]
    }
   ],
   "source": [
    "print(draw_n_squares(9))"
   ]
  },
  {
   "cell_type": "code",
   "execution_count": 35,
   "metadata": {},
   "outputs": [
    {
     "name": "stdout",
     "output_type": "stream",
     "text": [
      "+---+---+---+---+---+---+---+---+---+---+\n",
      "|   |   |   |   |   |   |   |   |   |   |\n",
      "+---+---+---+---+---+---+---+---+---+---+\n",
      "|   |   |   |   |   |   |   |   |   |   |\n",
      "+---+---+---+---+---+---+---+---+---+---+\n",
      "|   |   |   |   |   |   |   |   |   |   |\n",
      "+---+---+---+---+---+---+---+---+---+---+\n",
      "|   |   |   |   |   |   |   |   |   |   |\n",
      "+---+---+---+---+---+---+---+---+---+---+\n",
      "|   |   |   |   |   |   |   |   |   |   |\n",
      "+---+---+---+---+---+---+---+---+---+---+\n",
      "|   |   |   |   |   |   |   |   |   |   |\n",
      "+---+---+---+---+---+---+---+---+---+---+\n",
      "|   |   |   |   |   |   |   |   |   |   |\n",
      "+---+---+---+---+---+---+---+---+---+---+\n",
      "|   |   |   |   |   |   |   |   |   |   |\n",
      "+---+---+---+---+---+---+---+---+---+---+\n",
      "|   |   |   |   |   |   |   |   |   |   |\n",
      "+---+---+---+---+---+---+---+---+---+---+\n",
      "|   |   |   |   |   |   |   |   |   |   |\n",
      "+---+---+---+---+---+---+---+---+---+---+\n",
      "\n"
     ]
    }
   ],
   "source": [
    "print(draw_n_squares(10))"
   ]
  },
  {
   "cell_type": "code",
   "execution_count": null,
   "metadata": {},
   "outputs": [],
   "source": []
  }
 ],
 "metadata": {
  "kernelspec": {
   "display_name": "Python 3",
   "language": "python",
   "name": "python3"
  },
  "language_info": {
   "codemirror_mode": {
    "name": "ipython",
    "version": 3
   },
   "file_extension": ".py",
   "mimetype": "text/x-python",
   "name": "python",
   "nbconvert_exporter": "python",
   "pygments_lexer": "ipython3",
   "version": "3.11.1"
  },
  "orig_nbformat": 4
 },
 "nbformat": 4,
 "nbformat_minor": 2
}
