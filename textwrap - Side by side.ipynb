{
 "cells": [
  {
   "cell_type": "code",
   "execution_count": 1,
   "metadata": {},
   "outputs": [],
   "source": [
    "# USE \n",
    "# textwrap.wrap\n",
    "# itertools.zip_longest\n",
    "# TO SOLVE\n",
    "# challenge from https://www.hackinscience.org/exercises/side-by-side"
   ]
  },
  {
   "cell_type": "code",
   "execution_count": 2,
   "metadata": {},
   "outputs": [],
   "source": [
    "import textwrap\n",
    "import itertools\n",
    "\n",
    "def sidebyside(left, right, width=79):\n",
    "    if width % 2 == 0: # if width is even, we drop one column\n",
    "        width -=1\n",
    "\n",
    "    width -= 1 # save one column for '|' separator\n",
    "    width = width // 2\n",
    "\n",
    "    arr1 = textwrap.wrap(left,width)\n",
    "    arr2 = textwrap.wrap(right,width)\n",
    "    arr_ = ['|'] * max(len(arr1),len(arr2))\n",
    "   \n",
    "    arr1_just = []\n",
    "    for a,b in itertools.zip_longest(arr1,arr_):\n",
    "        if a: \n",
    "            arr1_just.append(a.ljust(width)) # even if line is wrapped fine, it may not be long enough, so have to use .ljust()\n",
    "        else:\n",
    "            a = ''                           # here we're filling out blank lines\n",
    "            arr1_just.append(a.ljust(width))\n",
    "  \n",
    "    # final output\n",
    "    buffer = [ ]\n",
    "    for i in itertools.zip_longest(arr1_just,arr_,arr2):\n",
    "        sub_buffer = [ ]\n",
    "        for j in i:\n",
    "            if j == None:\n",
    "                j = ''\n",
    "            sub_buffer.append(j)        \n",
    "        s = \"\".join(sub_buffer)\n",
    "        buffer.append(s)\n",
    "\n",
    "    result = \"\\n\".join(buffer)\n",
    "    return result"
   ]
  },
  {
   "cell_type": "code",
   "execution_count": 3,
   "metadata": {},
   "outputs": [],
   "source": [
    "# these are strings:\n",
    "left = (\n",
    "         \"Lorem ipsum dolor sit amet, consectetur adipiscing elit. \"\n",
    "         \"Sed non risus. \"\n",
    "         \"Suspendisse lectus tortor, dignissim sit amet, \"\n",
    "         \"adipiscing nec, utilisez sed sin dolor.\" )\n",
    "\n",
    "right = (\n",
    "          \"Morbi venenatis, felis nec pretium euismod, \"\n",
    "          \"est mauris finibus risus, consectetur laoreet \"\n",
    "          \"sem enim sed arcu. Maecenas sit amet eleifend sem. \"\n",
    "          \"Nullam ac libero metus. Praesent ac finibus nulla, vitae molestie dolor.\"\n",
    "          \" Aliquam vestibulum viverra nisl, id porta mi viverra hendrerit.\"\n",
    "          \" Ut et porta augue, et convallis ante.\" )"
   ]
  },
  {
   "cell_type": "code",
   "execution_count": 4,
   "metadata": {},
   "outputs": [
    {
     "name": "stdout",
     "output_type": "stream",
     "text": [
      "Lorem ipsum dolor sit amet, consectetur|Morbi venenatis, felis nec pretium\n",
      "adipiscing elit. Sed non risus.        |euismod, est mauris finibus risus,\n",
      "Suspendisse lectus tortor, dignissim   |consectetur laoreet sem enim sed arcu.\n",
      "sit amet, adipiscing nec, utilisez sed |Maecenas sit amet eleifend sem. Nullam\n",
      "sin dolor.                             |ac libero metus. Praesent ac finibus\n",
      "                                       |nulla, vitae molestie dolor. Aliquam\n",
      "                                       |vestibulum viverra nisl, id porta mi\n",
      "                                       |viverra hendrerit. Ut et porta augue,\n",
      "                                       |et convallis ante.\n"
     ]
    }
   ],
   "source": [
    "print(sidebyside(left, right))"
   ]
  },
  {
   "cell_type": "code",
   "execution_count": 5,
   "metadata": {},
   "outputs": [
    {
     "name": "stdout",
     "output_type": "stream",
     "text": [
      "Lorem ipsum dolor sit   |Morbi venenatis, felis\n",
      "amet, consectetur       |nec pretium euismod, est\n",
      "adipiscing elit. Sed non|mauris finibus risus,\n",
      "risus. Suspendisse      |consectetur laoreet sem\n",
      "lectus tortor, dignissim|enim sed arcu. Maecenas\n",
      "sit amet, adipiscing    |sit amet eleifend sem.\n",
      "nec, utilisez sed sin   |Nullam ac libero metus.\n",
      "dolor.                  |Praesent ac finibus\n",
      "                        |nulla, vitae molestie\n",
      "                        |dolor. Aliquam\n",
      "                        |vestibulum viverra nisl,\n",
      "                        |id porta mi viverra\n",
      "                        |hendrerit. Ut et porta\n",
      "                        |augue, et convallis\n",
      "                        |ante.\n"
     ]
    }
   ],
   "source": [
    "print(sidebyside(left, right, 50))"
   ]
  },
  {
   "cell_type": "code",
   "execution_count": 6,
   "metadata": {},
   "outputs": [
    {
     "name": "stdout",
     "output_type": "stream",
     "text": [
      "Lorem ipsum dolor sit amet, consectetur          |Morbi venenatis, felis nec pretium euismod, est\n",
      "adipiscing elit. Sed non risus. Suspendisse      |mauris finibus risus, consectetur laoreet sem\n",
      "lectus tortor, dignissim sit amet, adipiscing    |enim sed arcu. Maecenas sit amet eleifend sem.\n",
      "nec, utilisez sed sin dolor.                     |Nullam ac libero metus. Praesent ac finibus\n",
      "                                                 |nulla, vitae molestie dolor. Aliquam vestibulum\n",
      "                                                 |viverra nisl, id porta mi viverra hendrerit. Ut\n",
      "                                                 |et porta augue, et convallis ante.\n"
     ]
    }
   ],
   "source": [
    "print(sidebyside(left, right, 100)) "
   ]
  },
  {
   "cell_type": "code",
   "execution_count": 7,
   "metadata": {},
   "outputs": [
    {
     "name": "stdout",
     "output_type": "stream",
     "text": [
      "Lorem ipsum dolor sit amet, consectetur          |Lorem ipsum dolor sit   |Lorem ipsum dolor sit\n",
      "adipiscing elit. Sed non risus. Suspendisse      |amet, consectetur       |amet, consectetur\n",
      "lectus tortor, dignissim sit amet, adipiscing    |adipiscing elit. Sed non|adipiscing elit. Sed non\n",
      "nec, utilisez sed sin dolor.                     |risus. Suspendisse      |risus. Suspendisse\n",
      "                                                 |lectus tortor, dignissim|lectus tortor, dignissim\n",
      "                                                 |sit amet, adipiscing    |sit amet, adipiscing\n",
      "                                                 |nec, utilisez sed sin   |nec, utilisez sed sin\n",
      "                                                 |dolor.                  |dolor.\n"
     ]
    }
   ],
   "source": [
    "print(sidebyside(left, sidebyside(left, left, 50), 100))"
   ]
  },
  {
   "cell_type": "code",
   "execution_count": null,
   "metadata": {},
   "outputs": [],
   "source": []
  }
 ],
 "metadata": {
  "kernelspec": {
   "display_name": "Python 3",
   "language": "python",
   "name": "python3"
  },
  "language_info": {
   "codemirror_mode": {
    "name": "ipython",
    "version": 3
   },
   "file_extension": ".py",
   "mimetype": "text/x-python",
   "name": "python",
   "nbconvert_exporter": "python",
   "pygments_lexer": "ipython3",
   "version": "3.11.1"
  },
  "orig_nbformat": 4
 },
 "nbformat": 4,
 "nbformat_minor": 2
}
