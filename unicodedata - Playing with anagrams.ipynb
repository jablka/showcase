{
 "cells": [
  {
   "cell_type": "code",
   "execution_count": 1,
   "metadata": {},
   "outputs": [],
   "source": [
    "# Diactirics of any language should be ignored: crâné is an anagram of crane.\n",
    "# ...\n",
    "# challenge https://www.hackinscience.org/exercises/is_anagram"
   ]
  },
  {
   "cell_type": "code",
   "execution_count": 2,
   "metadata": {},
   "outputs": [],
   "source": [
    "import unicodedata\n",
    "\n",
    "def is_anagram(left, right):\n",
    "\n",
    "    def remove_accents(input_str:str):\n",
    "        nfkd_form = unicodedata.normalize('NFKD', input_str)\n",
    "        return \"\".join([c for c in nfkd_form if not unicodedata.combining(c)])\n",
    "\n",
    "    left = remove_accents(left)\n",
    "    right = remove_accents(right)\n",
    "\n",
    "    new_left = [ n.lower() for n in left if n.isalpha() ]\n",
    "    new_right = [ n.lower() for n in right if n.isalpha() ]\n",
    "\n",
    "    for n in new_right:\n",
    "        if n in new_left:\n",
    "            new_left.pop( new_left.index(n) )\n",
    "        else: \n",
    "            return False\n",
    "  \n",
    "    return True "
   ]
  },
  {
   "cell_type": "code",
   "execution_count": 3,
   "metadata": {},
   "outputs": [],
   "source": [
    "assert is_anagram('funeral', 'real fun' )\n",
    "assert is_anagram('crâné', 'crane' )\n",
    "assert is_anagram('Madam Curie', 'Radium came' )"
   ]
  },
  {
   "cell_type": "code",
   "execution_count": null,
   "metadata": {},
   "outputs": [],
   "source": []
  }
 ],
 "metadata": {
  "kernelspec": {
   "display_name": "Python 3",
   "language": "python",
   "name": "python3"
  },
  "language_info": {
   "codemirror_mode": {
    "name": "ipython",
    "version": 3
   },
   "file_extension": ".py",
   "mimetype": "text/x-python",
   "name": "python",
   "nbconvert_exporter": "python",
   "pygments_lexer": "ipython3",
   "version": "3.11.1"
  },
  "orig_nbformat": 4
 },
 "nbformat": 4,
 "nbformat_minor": 2
}
