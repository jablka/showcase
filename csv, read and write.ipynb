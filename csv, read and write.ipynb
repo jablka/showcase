{
 "cells": [
  {
   "cell_type": "code",
   "execution_count": null,
   "metadata": {},
   "outputs": [],
   "source": [
    "# read and write CSV files\n",
    "# with Python csv module https://docs.python.org/3/library/csv.html\n",
    "\n",
    "# challenge https://www.hackinscience.org/exercises/csv-and-python"
   ]
  },
  {
   "cell_type": "code",
   "execution_count": null,
   "metadata": {},
   "outputs": [],
   "source": [
    "import csv\n",
    "import datetime\n",
    "\n",
    "def generate_csv(a_list):\n",
    "\n",
    "    container = []\n",
    "    for riadok in a_list:\n",
    "        mydict = { i[0]:i[1] for i in riadok }\n",
    "        # print(mydict)\n",
    "        mydict['date'] = mydict['date'].strftime(\"%m/%d/%Y\") # date\n",
    "        mydict['locations'] = \",\".join(mydict['locations'])\n",
    "        container.append(mydict)    \n",
    "\n",
    "    # writing to CSV\n",
    "    with open('results.csv', 'w', newline='') as csvfile:\n",
    "        fieldnames = [ i for i in container[0] ]\n",
    "        writer = csv.DictWriter(csvfile, fieldnames=fieldnames)\n",
    "        writer.writeheader()\n",
    "        for i in container:\n",
    "            writer.writerow(i)\n",
    "        \n",
    "        \n",
    "def parse_csv():\n",
    "    with open('students.csv', newline='') as csvfile:\n",
    "        reader = csv.DictReader(csvfile)\n",
    "\n",
    "        result = []\n",
    "        for row in reader:\n",
    "            \n",
    "            # print(row['Birthdate'])\n",
    "            my_date = datetime.datetime.strptime(row['Birthdate'], '%m/%d/%Y' )\n",
    "            my_string = f'{my_date.year},{my_date.month},{my_date.day}' \n",
    "            row['Birthdate']=eval('datetime.date('+my_string+')')\n",
    "            \n",
    "            # print(row['Marks'])\n",
    "            row['Marks']= [ int(i) for i in row['Marks'].split(',') ] \n",
    "            \n",
    "            # print(row)\n",
    "            # print()\n",
    "\n",
    "            result.append(row)\n",
    "    \n",
    "    return result\n"
   ]
  }
 ],
 "metadata": {
  "language_info": {
   "name": "python"
  },
  "orig_nbformat": 4
 },
 "nbformat": 4,
 "nbformat_minor": 2
}
