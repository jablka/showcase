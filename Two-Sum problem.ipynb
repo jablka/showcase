{
 "cells": [
  {
   "attachments": {},
   "cell_type": "markdown",
   "metadata": {},
   "source": [
    "## brute force (exhaustive search)"
   ]
  },
  {
   "cell_type": "code",
   "execution_count": 8,
   "metadata": {},
   "outputs": [],
   "source": [
    "# Two-Sum Problem is a common coding interview question \n",
    "def two_sum_problem(arr, target):\n",
    "    for i,n in enumerate(arr):\n",
    "        searching_for = target - n\n",
    "        for k,nn in enumerate(arr):\n",
    "            if (k != i) and (nn == searching_for):\n",
    "                return (i,k)\n",
    "            "
   ]
  },
  {
   "cell_type": "code",
   "execution_count": 9,
   "metadata": {},
   "outputs": [],
   "source": [
    "assert two_sum_problem([1, 2, 3], 4) in [(0, 2), (2, 0)]\n",
    "assert two_sum_problem([1234, 5678, 9012], 14690) in [(1, 2), (2, 1)]\n",
    "assert two_sum_problem([2, 2, 3], 4) in [(0, 1), (1, 0)]\n",
    "assert two_sum_problem([2, 2], 4) in [(0, 1), (1, 0)]\n",
    "assert two_sum_problem([8, 7, 2, 5, 3, 1], 10) in [(0, 2), (2, 0), (1, 4), (4, 1)]"
   ]
  },
  {
   "attachments": {},
   "cell_type": "markdown",
   "metadata": {},
   "source": [
    "## použitím dictionary... ideme len jeden loop. (more efficient)"
   ]
  },
  {
   "cell_type": "code",
   "execution_count": 10,
   "metadata": {},
   "outputs": [],
   "source": [
    "def two_sum_hash_table(arr, target):\n",
    "    my_table = { }\n",
    "    for index, number in enumerate(arr):\n",
    "        doplnok = target - number\n",
    "        # print(number, doplnok)\n",
    "        if number in my_table: # či číslo nie je doplnkom, ktorý hľadáme\n",
    "            return index, my_table[number]\n",
    "        else:\n",
    "            my_table[doplnok]=index # on tu ukladá \"number\", ja tu ukladám \"doplnok\"\n",
    "            # print(my_table)\n",
    "\n",
    "    return None"
   ]
  },
  {
   "cell_type": "code",
   "execution_count": 11,
   "metadata": {},
   "outputs": [],
   "source": [
    "assert two_sum_hash_table([1, 2, 3], 4) in [(0, 2), (2, 0)]\n",
    "assert two_sum_hash_table([1234, 5678, 9012], 14690) in [(1, 2), (2, 1)]\n",
    "assert two_sum_hash_table([2, 2, 3], 4) in [(0, 1), (1, 0)]\n",
    "assert two_sum_hash_table([2, 2], 4) in [(0, 1), (1, 0)]\n",
    "assert two_sum_hash_table([8, 7, 2, 5, 3, 1], 10) in [(0, 2), (2, 0), (1, 4), (4, 1)]"
   ]
  },
  {
   "cell_type": "code",
   "execution_count": null,
   "metadata": {},
   "outputs": [],
   "source": []
  }
 ],
 "metadata": {
  "kernelspec": {
   "display_name": "Python 3",
   "language": "python",
   "name": "python3"
  },
  "language_info": {
   "codemirror_mode": {
    "name": "ipython",
    "version": 3
   },
   "file_extension": ".py",
   "mimetype": "text/x-python",
   "name": "python",
   "nbconvert_exporter": "python",
   "pygments_lexer": "ipython3",
   "version": "3.11.1"
  },
  "orig_nbformat": 4
 },
 "nbformat": 4,
 "nbformat_minor": 2
}
