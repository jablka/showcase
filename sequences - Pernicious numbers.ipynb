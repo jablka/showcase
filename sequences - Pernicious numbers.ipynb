{
 "cells": [
  {
   "cell_type": "code",
   "execution_count": 2,
   "metadata": {},
   "outputs": [],
   "source": [
    "# print the pernicious numbers in the range(222281, 222381)\n",
    "\n",
    "# challenge https://www.hackinscience.org/exercises/pernicious-numbers\n",
    "\n",
    "# a pernicious number is a number that has a prime number of 1s when written in binary format. See https://en.wikipedia.org/wiki/Pernicious_number"
   ]
  },
  {
   "cell_type": "code",
   "execution_count": 3,
   "metadata": {},
   "outputs": [
    {
     "name": "stdout",
     "output_type": "stream",
     "text": [
      "222288\n",
      "222303\n",
      "222304\n",
      "222319\n",
      "222327\n",
      "222331\n",
      "222333\n",
      "222334\n",
      "222337\n",
      "222338\n",
      "222340\n",
      "222344\n",
      "222352\n",
      "222367\n",
      "222368\n"
     ]
    }
   ],
   "source": [
    "def is_prime(n):\n",
    "    square_root = n**0.5\n",
    "    for i in range(2,int(square_root)+1):\n",
    "        if n % i == 0:\n",
    "            result = False\n",
    "            break\n",
    "    else:\n",
    "        result = True\n",
    "    \n",
    "    if n == 1: result = False            \n",
    "    return result\n",
    "\n",
    "rozsah = range(222281, 222381)\n",
    "\n",
    "for n in rozsah:\n",
    "    if is_prime(str(bin(n)).count('1')):\n",
    "        print(n)"
   ]
  },
  {
   "cell_type": "code",
   "execution_count": null,
   "metadata": {},
   "outputs": [],
   "source": []
  }
 ],
 "metadata": {
  "kernelspec": {
   "display_name": "Python 3",
   "language": "python",
   "name": "python3"
  },
  "language_info": {
   "codemirror_mode": {
    "name": "ipython",
    "version": 3
   },
   "file_extension": ".py",
   "mimetype": "text/x-python",
   "name": "python",
   "nbconvert_exporter": "python",
   "pygments_lexer": "ipython3",
   "version": "3.11.1"
  },
  "orig_nbformat": 4
 },
 "nbformat": 4,
 "nbformat_minor": 2
}
