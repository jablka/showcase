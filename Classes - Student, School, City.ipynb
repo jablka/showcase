{
 "cells": [
  {
   "cell_type": "code",
   "execution_count": 1,
   "metadata": {},
   "outputs": [],
   "source": [
    "# Implement a Student, School, and a City classes...\n",
    "\n",
    "# challenge https://www.hackinscience.org/exercises/student-class"
   ]
  },
  {
   "cell_type": "code",
   "execution_count": 2,
   "metadata": {},
   "outputs": [],
   "source": [
    "# solution:\n",
    "\n",
    "class Student:\n",
    "    def __init__(self, name) -> None:\n",
    "        self.name = name\n",
    "        self.grade = []\n",
    "\n",
    "    def add_exam(self, grade:float):\n",
    "        self.grade.append(grade)\n",
    "\n",
    "    def get_mean(self): # \n",
    "        return sum(self.grade) / len(self.grade)\n",
    "    \n",
    "\n",
    "\n",
    "class School:\n",
    "    def __init__(self, name) -> None:\n",
    "        self.name = name\n",
    "        self.student = []\n",
    "        # self.best_student = None\n",
    "\n",
    "    def add_student(self, student):      \n",
    "        self.student.append(student)\n",
    "    \n",
    "    def get_mean(self):\n",
    "        buffer = []\n",
    "        for i in self.student:\n",
    "            buffer.append( i.get_mean() )\n",
    "        return sum(buffer) / len(buffer)\n",
    "\n",
    "    def get_best_student(self):\n",
    "        buffer = []\n",
    "        for i in self.student:\n",
    "            buffer.append( (i, i.get_mean()) )\n",
    "        result = max(buffer, key=lambda x:x[1])[0]    \n",
    "        return result # best grade is maximum\n",
    "\n",
    "\n",
    "\n",
    "class City:\n",
    "    def __init__(self, name) -> None:\n",
    "        self.name = name\n",
    "        self.school = []\n",
    "    \n",
    "    def add_school(self, school):\n",
    "        self.school.append(school)\n",
    "\n",
    "    def get_mean(self):\n",
    "        buffer = []\n",
    "        for i in self.school:\n",
    "            buffer.append( i.get_mean() )\n",
    "        return sum(buffer) / len(buffer)\n",
    "\n",
    "    def get_best_school(self): \n",
    "        buffer = []\n",
    "        for i in self.school:\n",
    "            buffer.append( (i, i.get_mean()) )\n",
    "        return max(buffer, key=lambda x:x[1] )[0] # best grade is maximum\n",
    "\n",
    "    def get_best_student(self):\n",
    "        buffer = []\n",
    "        for i in self.school:\n",
    "            buffer.append( i.get_best_student() )\n",
    "        return max(buffer) # best grade is maximum"
   ]
  },
  {
   "cell_type": "code",
   "execution_count": 3,
   "metadata": {},
   "outputs": [
    {
     "name": "stdout",
     "output_type": "stream",
     "text": [
      "hkis\n",
      "daniel\n"
     ]
    }
   ],
   "source": [
    "# test\n",
    "paris = City('paris')\n",
    "hkis = School('hkis')\n",
    "paris.add_school(hkis)\n",
    "for student_name, student_grades in (('alice', (1, 2, 3)),\n",
    "                                    ('bob', (2, 3, 4)),\n",
    "                                    ('catherine', (3, 4, 5)),\n",
    "                                    ('daniel', (4, 5, 6))):\n",
    "    student = Student(student_name)\n",
    "    for grade in student_grades:\n",
    "        student.add_exam(grade)\n",
    "    hkis.add_student(student)\n",
    "    \n",
    "print(paris.get_best_school().name)\n",
    "print(paris.get_best_student().name)"
   ]
  },
  {
   "cell_type": "code",
   "execution_count": null,
   "metadata": {},
   "outputs": [],
   "source": []
  }
 ],
 "metadata": {
  "kernelspec": {
   "display_name": "Python 3",
   "language": "python",
   "name": "python3"
  },
  "language_info": {
   "codemirror_mode": {
    "name": "ipython",
    "version": 3
   },
   "file_extension": ".py",
   "mimetype": "text/x-python",
   "name": "python",
   "nbconvert_exporter": "python",
   "pygments_lexer": "ipython3",
   "version": "3.11.1"
  },
  "orig_nbformat": 4
 },
 "nbformat": 4,
 "nbformat_minor": 2
}
