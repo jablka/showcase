{
 "cells": [
  {
   "cell_type": "code",
   "execution_count": 1,
   "metadata": {},
   "outputs": [],
   "source": [
    "# convert Roman Numerals\n",
    "\n",
    "# challenge https://www.hackinscience.org/exercises/reverse-roman-numerals"
   ]
  },
  {
   "cell_type": "code",
   "execution_count": 2,
   "metadata": {},
   "outputs": [],
   "source": [
    "def from_roman_numeral(roman_numeral):\n",
    "    roman = {\n",
    "        'I': 1,\n",
    "        'V': 5,\n",
    "        'X': 10,\n",
    "        'L': 50,\n",
    "        'C': 100,\n",
    "        'D': 500,\n",
    "        'M': 1000,\n",
    "    }\n",
    "\n",
    "    mylist = [ ]\n",
    "    for a in roman_numeral:\n",
    "        mylist.append(roman[a])\n",
    "\n",
    "    vysledok = 0\n",
    "    for i in range(len(mylist)):\n",
    "        vysledok += mylist[i]\n",
    "        if i+1<len(mylist):\n",
    "            if mylist[i]<mylist[i+1]:\n",
    "                vysledok -= 2*mylist[i]\n",
    "\n",
    "    return vysledok"
   ]
  },
  {
   "cell_type": "code",
   "execution_count": 3,
   "metadata": {},
   "outputs": [
    {
     "name": "stdout",
     "output_type": "stream",
     "text": [
      "\n",
      "['I', 'V', 'X', 'L', 'C', 'D', 'M']\n",
      "1\n",
      "5\n",
      "10\n",
      "50\n",
      "100\n",
      "500\n",
      "1000\n",
      "\n",
      "['III']\n",
      "3\n",
      "\n",
      "['XIV', 'XXIII', 'XVIII', 'XIX', 'MMXXII']\n",
      "14\n",
      "23\n",
      "18\n",
      "19\n",
      "2022\n"
     ]
    }
   ],
   "source": [
    "# test\n",
    "\n",
    "print()\n",
    "zoznam = ['I','V','X','L','C','D','M' ]\n",
    "print(zoznam)\n",
    "for i in zoznam:\n",
    "    print(from_roman_numeral(i))\n",
    "\n",
    "print()\n",
    "zoznam = ['III']\n",
    "print(zoznam)\n",
    "for i in zoznam:\n",
    "    print(from_roman_numeral(i))\n",
    "\n",
    "print()\n",
    "zoznam = ['XIV', 'XXIII', 'XVIII', 'XIX', 'MMXXII']\n",
    "print(zoznam)\n",
    "for i in zoznam:\n",
    "    print(from_roman_numeral(i))"
   ]
  },
  {
   "cell_type": "code",
   "execution_count": null,
   "metadata": {},
   "outputs": [],
   "source": []
  }
 ],
 "metadata": {
  "kernelspec": {
   "display_name": "Python 3",
   "language": "python",
   "name": "python3"
  },
  "language_info": {
   "codemirror_mode": {
    "name": "ipython",
    "version": 3
   },
   "file_extension": ".py",
   "mimetype": "text/x-python",
   "name": "python",
   "nbconvert_exporter": "python",
   "pygments_lexer": "ipython3",
   "version": "3.11.1"
  },
  "orig_nbformat": 4
 },
 "nbformat": 4,
 "nbformat_minor": 2
}
