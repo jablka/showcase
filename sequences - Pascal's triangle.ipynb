{
 "cells": [
  {
   "cell_type": "code",
   "execution_count": null,
   "metadata": {},
   "outputs": [],
   "source": [
    "# Pascal's triangle https://en.wikipedia.org/wiki/Pascal%27s_triangle\n",
    "\n",
    "# challenge from https://www.hackinscience.org/exercises/pascals-triangle"
   ]
  },
  {
   "cell_type": "code",
   "execution_count": 27,
   "metadata": {},
   "outputs": [],
   "source": [
    "import itertools # or: from itertools import pairwise\n",
    "\n",
    "def print_pascal_triangle(height):\n",
    "    \n",
    "    def final_print(arr):\n",
    "        \"\"\" function for final print \"\"\"\n",
    "\n",
    "        # first find the width of the final row\n",
    "        s = ''\n",
    "        for b in arr[-1]:\n",
    "            s += str(b)+'   '\n",
    "        width = len(s[:-3])                     \n",
    "\n",
    "        # now print the tree / triangle\n",
    "        for i in arr:\n",
    "            # print(*i)        \n",
    "            s = ''\n",
    "            for b in i:\n",
    "                s += str(b)+'   '\n",
    "            s = s[:-3]\n",
    "            print(s.center(width))         \n",
    "\n",
    "\n",
    "    if height == 0:\n",
    "        arr = [[]]\n",
    "    elif height == 1:\n",
    "        arr = [[1]]\n",
    "    elif height == 2:\n",
    "        arr = [[1],[1,1]]\n",
    "    else:\n",
    "        arr = [[1],[1,1]]\n",
    "        for i in range(2,height): # if height >= 3\n",
    "            row = []\n",
    "            for b in itertools.pairwise(arr[i-1]):\n",
    "                row.append(sum(b))\n",
    "\n",
    "            row.insert(0,1)\n",
    "            row.append(1)\n",
    "\n",
    "            arr.append(row)\n",
    "            \n",
    "    final_print(arr) \n",
    "        "
   ]
  },
  {
   "cell_type": "code",
   "execution_count": 28,
   "metadata": {},
   "outputs": [
    {
     "name": "stdout",
     "output_type": "stream",
     "text": [
      "1\n"
     ]
    }
   ],
   "source": [
    "print_pascal_triangle(1)"
   ]
  },
  {
   "cell_type": "code",
   "execution_count": 29,
   "metadata": {},
   "outputs": [
    {
     "name": "stdout",
     "output_type": "stream",
     "text": [
      "  1  \n",
      "1   1\n"
     ]
    }
   ],
   "source": [
    "print_pascal_triangle(2)"
   ]
  },
  {
   "cell_type": "code",
   "execution_count": 30,
   "metadata": {},
   "outputs": [
    {
     "name": "stdout",
     "output_type": "stream",
     "text": [
      "    1    \n",
      "  1   1  \n",
      "1   2   1\n"
     ]
    }
   ],
   "source": [
    "print_pascal_triangle(3)"
   ]
  },
  {
   "cell_type": "code",
   "execution_count": 31,
   "metadata": {},
   "outputs": [
    {
     "name": "stdout",
     "output_type": "stream",
     "text": [
      "      1      \n",
      "    1   1    \n",
      "  1   2   1  \n",
      "1   3   3   1\n"
     ]
    }
   ],
   "source": [
    "print_pascal_triangle(4)"
   ]
  },
  {
   "cell_type": "code",
   "execution_count": 32,
   "metadata": {},
   "outputs": [
    {
     "name": "stdout",
     "output_type": "stream",
     "text": [
      "        1        \n",
      "      1   1      \n",
      "    1   2   1    \n",
      "  1   3   3   1  \n",
      "1   4   6   4   1\n"
     ]
    }
   ],
   "source": [
    "print_pascal_triangle(5)"
   ]
  },
  {
   "cell_type": "code",
   "execution_count": 33,
   "metadata": {},
   "outputs": [
    {
     "name": "stdout",
     "output_type": "stream",
     "text": [
      "           1           \n",
      "         1   1         \n",
      "       1   2   1       \n",
      "     1   3   3   1     \n",
      "   1   4   6   4   1   \n",
      "1   5   10   10   5   1\n"
     ]
    }
   ],
   "source": [
    "print_pascal_triangle(6)"
   ]
  },
  {
   "cell_type": "code",
   "execution_count": 34,
   "metadata": {},
   "outputs": [
    {
     "name": "stdout",
     "output_type": "stream",
     "text": [
      "             1              \n",
      "           1   1            \n",
      "         1   2   1          \n",
      "       1   3   3   1        \n",
      "     1   4   6   4   1      \n",
      "  1   5   10   10   5   1   \n",
      "1   6   15   20   15   6   1\n"
     ]
    }
   ],
   "source": [
    "print_pascal_triangle(7)"
   ]
  },
  {
   "cell_type": "code",
   "execution_count": 35,
   "metadata": {},
   "outputs": [
    {
     "name": "stdout",
     "output_type": "stream",
     "text": [
      "                1                \n",
      "              1   1              \n",
      "            1   2   1            \n",
      "          1   3   3   1          \n",
      "        1   4   6   4   1        \n",
      "     1   5   10   10   5   1     \n",
      "   1   6   15   20   15   6   1  \n",
      "1   7   21   35   35   21   7   1\n"
     ]
    }
   ],
   "source": [
    "print_pascal_triangle(8)"
   ]
  },
  {
   "cell_type": "code",
   "execution_count": 36,
   "metadata": {},
   "outputs": [
    {
     "name": "stdout",
     "output_type": "stream",
     "text": [
      "                  1                   \n",
      "                1   1                 \n",
      "              1   2   1               \n",
      "            1   3   3   1             \n",
      "          1   4   6   4   1           \n",
      "       1   5   10   10   5   1        \n",
      "     1   6   15   20   15   6   1     \n",
      "  1   7   21   35   35   21   7   1   \n",
      "1   8   28   56   70   56   28   8   1\n"
     ]
    }
   ],
   "source": [
    "print_pascal_triangle(9)"
   ]
  },
  {
   "cell_type": "code",
   "execution_count": 37,
   "metadata": {},
   "outputs": [
    {
     "name": "stdout",
     "output_type": "stream",
     "text": [
      "                      1                      \n",
      "                    1   1                    \n",
      "                  1   2   1                  \n",
      "                1   3   3   1                \n",
      "              1   4   6   4   1              \n",
      "           1   5   10   10   5   1           \n",
      "         1   6   15   20   15   6   1        \n",
      "      1   7   21   35   35   21   7   1      \n",
      "    1   8   28   56   70   56   28   8   1   \n",
      "1   9   36   84   126   126   84   36   9   1\n"
     ]
    }
   ],
   "source": [
    "print_pascal_triangle(10)"
   ]
  },
  {
   "cell_type": "code",
   "execution_count": 38,
   "metadata": {},
   "outputs": [
    {
     "name": "stdout",
     "output_type": "stream",
     "text": [
      "                           1                           \n",
      "                         1   1                         \n",
      "                       1   2   1                       \n",
      "                     1   3   3   1                     \n",
      "                   1   4   6   4   1                   \n",
      "                1   5   10   10   5   1                \n",
      "              1   6   15   20   15   6   1             \n",
      "           1   7   21   35   35   21   7   1           \n",
      "         1   8   28   56   70   56   28   8   1        \n",
      "     1   9   36   84   126   126   84   36   9   1     \n",
      "1   10   45   120   210   252   210   120   45   10   1\n"
     ]
    }
   ],
   "source": [
    "print_pascal_triangle(11)"
   ]
  },
  {
   "cell_type": "code",
   "execution_count": 39,
   "metadata": {},
   "outputs": [
    {
     "name": "stdout",
     "output_type": "stream",
     "text": [
      "                              1                              \n",
      "                            1   1                            \n",
      "                          1   2   1                          \n",
      "                        1   3   3   1                        \n",
      "                      1   4   6   4   1                      \n",
      "                   1   5   10   10   5   1                   \n",
      "                 1   6   15   20   15   6   1                \n",
      "              1   7   21   35   35   21   7   1              \n",
      "            1   8   28   56   70   56   28   8   1           \n",
      "        1   9   36   84   126   126   84   36   9   1        \n",
      "   1   10   45   120   210   252   210   120   45   10   1   \n",
      "1   11   55   165   330   462   462   330   165   55   11   1\n"
     ]
    }
   ],
   "source": [
    "print_pascal_triangle(12)"
   ]
  },
  {
   "cell_type": "code",
   "execution_count": 40,
   "metadata": {},
   "outputs": [
    {
     "name": "stdout",
     "output_type": "stream",
     "text": [
      "                                 1                                 \n",
      "                               1   1                               \n",
      "                             1   2   1                             \n",
      "                           1   3   3   1                           \n",
      "                         1   4   6   4   1                         \n",
      "                      1   5   10   10   5   1                      \n",
      "                    1   6   15   20   15   6   1                   \n",
      "                 1   7   21   35   35   21   7   1                 \n",
      "               1   8   28   56   70   56   28   8   1              \n",
      "           1   9   36   84   126   126   84   36   9   1           \n",
      "      1   10   45   120   210   252   210   120   45   10   1      \n",
      "   1   11   55   165   330   462   462   330   165   55   11   1   \n",
      "1   12   66   220   495   792   924   792   495   220   66   12   1\n"
     ]
    }
   ],
   "source": [
    "print_pascal_triangle(13)"
   ]
  },
  {
   "cell_type": "code",
   "execution_count": 41,
   "metadata": {},
   "outputs": [
    {
     "name": "stdout",
     "output_type": "stream",
     "text": [
      "                                      1                                      \n",
      "                                    1   1                                    \n",
      "                                  1   2   1                                  \n",
      "                                1   3   3   1                                \n",
      "                              1   4   6   4   1                              \n",
      "                           1   5   10   10   5   1                           \n",
      "                         1   6   15   20   15   6   1                        \n",
      "                      1   7   21   35   35   21   7   1                      \n",
      "                    1   8   28   56   70   56   28   8   1                   \n",
      "                1   9   36   84   126   126   84   36   9   1                \n",
      "           1   10   45   120   210   252   210   120   45   10   1           \n",
      "        1   11   55   165   330   462   462   330   165   55   11   1        \n",
      "     1   12   66   220   495   792   924   792   495   220   66   12   1     \n",
      "1   13   78   286   715   1287   1716   1716   1287   715   286   78   13   1\n"
     ]
    }
   ],
   "source": [
    "print_pascal_triangle(14)"
   ]
  },
  {
   "cell_type": "code",
   "execution_count": 42,
   "metadata": {},
   "outputs": [
    {
     "name": "stdout",
     "output_type": "stream",
     "text": [
      "                                          1                                           \n",
      "                                        1   1                                         \n",
      "                                      1   2   1                                       \n",
      "                                    1   3   3   1                                     \n",
      "                                  1   4   6   4   1                                   \n",
      "                               1   5   10   10   5   1                                \n",
      "                             1   6   15   20   15   6   1                             \n",
      "                          1   7   21   35   35   21   7   1                           \n",
      "                        1   8   28   56   70   56   28   8   1                        \n",
      "                    1   9   36   84   126   126   84   36   9   1                     \n",
      "               1   10   45   120   210   252   210   120   45   10   1                \n",
      "            1   11   55   165   330   462   462   330   165   55   11   1             \n",
      "         1   12   66   220   495   792   924   792   495   220   66   12   1          \n",
      "    1   13   78   286   715   1287   1716   1716   1287   715   286   78   13   1     \n",
      "1   14   91   364   1001   2002   3003   3432   3003   2002   1001   364   91   14   1\n"
     ]
    }
   ],
   "source": [
    "print_pascal_triangle(15)"
   ]
  },
  {
   "cell_type": "code",
   "execution_count": 43,
   "metadata": {},
   "outputs": [
    {
     "name": "stdout",
     "output_type": "stream",
     "text": [
      "                                               1                                               \n",
      "                                             1   1                                             \n",
      "                                           1   2   1                                           \n",
      "                                         1   3   3   1                                         \n",
      "                                       1   4   6   4   1                                       \n",
      "                                    1   5   10   10   5   1                                    \n",
      "                                  1   6   15   20   15   6   1                                 \n",
      "                               1   7   21   35   35   21   7   1                               \n",
      "                             1   8   28   56   70   56   28   8   1                            \n",
      "                         1   9   36   84   126   126   84   36   9   1                         \n",
      "                    1   10   45   120   210   252   210   120   45   10   1                    \n",
      "                 1   11   55   165   330   462   462   330   165   55   11   1                 \n",
      "              1   12   66   220   495   792   924   792   495   220   66   12   1              \n",
      "         1   13   78   286   715   1287   1716   1716   1287   715   286   78   13   1         \n",
      "     1   14   91   364   1001   2002   3003   3432   3003   2002   1001   364   91   14   1    \n",
      "1   15   105   455   1365   3003   5005   6435   6435   5005   3003   1365   455   105   15   1\n"
     ]
    }
   ],
   "source": [
    "print_pascal_triangle(16)"
   ]
  },
  {
   "cell_type": "code",
   "execution_count": 44,
   "metadata": {},
   "outputs": [
    {
     "name": "stdout",
     "output_type": "stream",
     "text": [
      "                                                    1                                                    \n",
      "                                                  1   1                                                  \n",
      "                                                1   2   1                                                \n",
      "                                              1   3   3   1                                              \n",
      "                                            1   4   6   4   1                                            \n",
      "                                         1   5   10   10   5   1                                         \n",
      "                                       1   6   15   20   15   6   1                                      \n",
      "                                    1   7   21   35   35   21   7   1                                    \n",
      "                                  1   8   28   56   70   56   28   8   1                                 \n",
      "                              1   9   36   84   126   126   84   36   9   1                              \n",
      "                         1   10   45   120   210   252   210   120   45   10   1                         \n",
      "                      1   11   55   165   330   462   462   330   165   55   11   1                      \n",
      "                   1   12   66   220   495   792   924   792   495   220   66   12   1                   \n",
      "              1   13   78   286   715   1287   1716   1716   1287   715   286   78   13   1              \n",
      "          1   14   91   364   1001   2002   3003   3432   3003   2002   1001   364   91   14   1         \n",
      "     1   15   105   455   1365   3003   5005   6435   6435   5005   3003   1365   455   105   15   1     \n",
      "1   16   120   560   1820   4368   8008   11440   12870   11440   8008   4368   1820   560   120   16   1\n"
     ]
    }
   ],
   "source": [
    "print_pascal_triangle(17)"
   ]
  },
  {
   "cell_type": "code",
   "execution_count": 45,
   "metadata": {},
   "outputs": [
    {
     "name": "stdout",
     "output_type": "stream",
     "text": [
      "                                                         1                                                         \n",
      "                                                       1   1                                                       \n",
      "                                                     1   2   1                                                     \n",
      "                                                   1   3   3   1                                                   \n",
      "                                                 1   4   6   4   1                                                 \n",
      "                                              1   5   10   10   5   1                                              \n",
      "                                            1   6   15   20   15   6   1                                           \n",
      "                                         1   7   21   35   35   21   7   1                                         \n",
      "                                       1   8   28   56   70   56   28   8   1                                      \n",
      "                                   1   9   36   84   126   126   84   36   9   1                                   \n",
      "                              1   10   45   120   210   252   210   120   45   10   1                              \n",
      "                           1   11   55   165   330   462   462   330   165   55   11   1                           \n",
      "                        1   12   66   220   495   792   924   792   495   220   66   12   1                        \n",
      "                   1   13   78   286   715   1287   1716   1716   1287   715   286   78   13   1                   \n",
      "               1   14   91   364   1001   2002   3003   3432   3003   2002   1001   364   91   14   1              \n",
      "          1   15   105   455   1365   3003   5005   6435   6435   5005   3003   1365   455   105   15   1          \n",
      "     1   16   120   560   1820   4368   8008   11440   12870   11440   8008   4368   1820   560   120   16   1     \n",
      "1   17   136   680   2380   6188   12376   19448   24310   24310   19448   12376   6188   2380   680   136   17   1\n"
     ]
    }
   ],
   "source": [
    "print_pascal_triangle(18)"
   ]
  },
  {
   "cell_type": "code",
   "execution_count": 46,
   "metadata": {},
   "outputs": [
    {
     "name": "stdout",
     "output_type": "stream",
     "text": [
      "                                                             1                                                             \n",
      "                                                           1   1                                                           \n",
      "                                                         1   2   1                                                         \n",
      "                                                       1   3   3   1                                                       \n",
      "                                                     1   4   6   4   1                                                     \n",
      "                                                  1   5   10   10   5   1                                                  \n",
      "                                                1   6   15   20   15   6   1                                               \n",
      "                                             1   7   21   35   35   21   7   1                                             \n",
      "                                           1   8   28   56   70   56   28   8   1                                          \n",
      "                                       1   9   36   84   126   126   84   36   9   1                                       \n",
      "                                  1   10   45   120   210   252   210   120   45   10   1                                  \n",
      "                               1   11   55   165   330   462   462   330   165   55   11   1                               \n",
      "                            1   12   66   220   495   792   924   792   495   220   66   12   1                            \n",
      "                       1   13   78   286   715   1287   1716   1716   1287   715   286   78   13   1                       \n",
      "                   1   14   91   364   1001   2002   3003   3432   3003   2002   1001   364   91   14   1                  \n",
      "              1   15   105   455   1365   3003   5005   6435   6435   5005   3003   1365   455   105   15   1              \n",
      "         1   16   120   560   1820   4368   8008   11440   12870   11440   8008   4368   1820   560   120   16   1         \n",
      "    1   17   136   680   2380   6188   12376   19448   24310   24310   19448   12376   6188   2380   680   136   17   1    \n",
      "1   18   153   816   3060   8568   18564   31824   43758   48620   43758   31824   18564   8568   3060   816   153   18   1\n"
     ]
    }
   ],
   "source": [
    "print_pascal_triangle(19)"
   ]
  },
  {
   "cell_type": "code",
   "execution_count": 47,
   "metadata": {},
   "outputs": [
    {
     "name": "stdout",
     "output_type": "stream",
     "text": [
      "                                                                  1                                                                  \n",
      "                                                                1   1                                                                \n",
      "                                                              1   2   1                                                              \n",
      "                                                            1   3   3   1                                                            \n",
      "                                                          1   4   6   4   1                                                          \n",
      "                                                       1   5   10   10   5   1                                                       \n",
      "                                                     1   6   15   20   15   6   1                                                    \n",
      "                                                  1   7   21   35   35   21   7   1                                                  \n",
      "                                                1   8   28   56   70   56   28   8   1                                               \n",
      "                                            1   9   36   84   126   126   84   36   9   1                                            \n",
      "                                       1   10   45   120   210   252   210   120   45   10   1                                       \n",
      "                                    1   11   55   165   330   462   462   330   165   55   11   1                                    \n",
      "                                 1   12   66   220   495   792   924   792   495   220   66   12   1                                 \n",
      "                            1   13   78   286   715   1287   1716   1716   1287   715   286   78   13   1                            \n",
      "                        1   14   91   364   1001   2002   3003   3432   3003   2002   1001   364   91   14   1                       \n",
      "                   1   15   105   455   1365   3003   5005   6435   6435   5005   3003   1365   455   105   15   1                   \n",
      "              1   16   120   560   1820   4368   8008   11440   12870   11440   8008   4368   1820   560   120   16   1              \n",
      "         1   17   136   680   2380   6188   12376   19448   24310   24310   19448   12376   6188   2380   680   136   17   1         \n",
      "     1   18   153   816   3060   8568   18564   31824   43758   48620   43758   31824   18564   8568   3060   816   153   18   1     \n",
      "1   19   171   969   3876   11628   27132   50388   75582   92378   92378   75582   50388   27132   11628   3876   969   171   19   1\n"
     ]
    }
   ],
   "source": [
    "print_pascal_triangle(20)"
   ]
  },
  {
   "cell_type": "code",
   "execution_count": null,
   "metadata": {},
   "outputs": [],
   "source": []
  }
 ],
 "metadata": {
  "kernelspec": {
   "display_name": "Python 3",
   "language": "python",
   "name": "python3"
  },
  "language_info": {
   "codemirror_mode": {
    "name": "ipython",
    "version": 3
   },
   "file_extension": ".py",
   "mimetype": "text/x-python",
   "name": "python",
   "nbconvert_exporter": "python",
   "pygments_lexer": "ipython3",
   "version": "3.11.1"
  },
  "orig_nbformat": 4
 },
 "nbformat": 4,
 "nbformat_minor": 2
}
