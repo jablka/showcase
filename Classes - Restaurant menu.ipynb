{
 "cells": [
  {
   "cell_type": "code",
   "execution_count": 15,
   "metadata": {},
   "outputs": [],
   "source": [
    "# Implement a Dish and a Menu classes\n",
    "\n",
    "# challenge https://www.hackinscience.org/exercises/restaurant-menu"
   ]
  },
  {
   "cell_type": "code",
   "execution_count": 16,
   "metadata": {},
   "outputs": [],
   "source": [
    "class Dish:   \n",
    "    _dish_types = {'starter', 'dish', 'dessert'}\n",
    "\n",
    "    def __init__(self, name, preparation_time, dish_type):\n",
    "        self.name = name     \n",
    "        self.preparation_time = preparation_time # implement comparing\n",
    "        if (dish_type in Dish._dish_types):\n",
    "            self.dish_type = dish_type # starter, dish, dessert\n",
    "        else: \n",
    "            raise TypeError(\"Only: 'starter', 'dish', 'dessert' values allowed as a dish_type \")\n",
    "    \n",
    "    def __eq__(self, other):\n",
    "        return self.preparation_time == other.preparation_time\n",
    "\n",
    "    def __lt__(self, other):\n",
    "        return self.preparation_time < other.preparation_time\n",
    "    \n",
    "    def __gt__(self,other):\n",
    "        return self.preparation_time > other.preparation_time\n",
    "    \n",
    "    def __le__(self,other):\n",
    "        return self.preparation_time <= other.preparation_time    \n",
    "        \n",
    "    def __ge__(self,other):\n",
    "        return self.preparation_time >= other.preparation_time    \n",
    "\n",
    "class Menu:\n",
    "    def __init__(self, name):\n",
    "        self.name = name\n",
    "        self.list_of_dishes = []\n",
    "    \n",
    "    def add_dish(self, dish:Dish):\n",
    "        self.list_of_dishes.append(dish)\n",
    "    \n",
    "    def get_starters(self):\n",
    "        return [ i for i in self.list_of_dishes if i.dish_type == 'starter' ]\n",
    "    \n",
    "    def get_dishes(self):\n",
    "        return [ i for i in self.list_of_dishes if i.dish_type == 'dish' ]\n",
    "                       \n",
    "    def get_desserts(self):\n",
    "        return [ i for i in self.list_of_dishes if i.dish_type == 'dessert' ]\n",
    "    \n",
    "    def get_minimum_preparation_time(self):\n",
    "        _starters = sorted(self.get_starters())\n",
    "        _dishes = sorted(self.get_dishes())\n",
    "        _desserts = sorted(self.get_desserts())\n",
    "\n",
    "        thisOne1 = _starters[0].preparation_time if _starters else 0\n",
    "        thisOne2 = _dishes[0].preparation_time if _dishes else 0\n",
    "        thisOne3 = _desserts[0].preparation_time if _desserts else 0\n",
    "\n",
    "        return thisOne1 + thisOne2 + thisOne3\n",
    "    \n",
    "    def get_maximum_preparation_time(self):\n",
    "        _starters = sorted(self.get_starters()) # could be done also by reverse=True\n",
    "        _dishes = sorted(self.get_dishes())\n",
    "        _desserts = sorted(self.get_desserts())\n",
    "\n",
    "                        # -1 for the maximum\n",
    "        thisOne1 = _starters[-1].preparation_time if _starters else 0\n",
    "        thisOne2 = _dishes[-1].preparation_time if _dishes else 0\n",
    "        thisOne3 = _desserts[-1].preparation_time if _desserts else 0\n",
    "\n",
    "        return thisOne1 + thisOne2 + thisOne3\n",
    "\n",
    "    def __add__(self,other): # implement add. \n",
    "        new_name = self.name+' & '+other.name\n",
    "        newMenu = Menu(new_name)\n",
    "        newMenu.list_of_dishes = self.list_of_dishes + other.list_of_dishes # lists can be simply concatenated\n",
    "        return newMenu\n",
    "\n",
    "    # finally, implement repr or str...\n",
    "    def __repr__(self):\n",
    "        return super().__repr__()\n",
    "\n",
    "    def __str__(self):     \n",
    "        _starters = sorted(self.get_starters())\n",
    "        _dishes = sorted(self.get_dishes())\n",
    "        _desserts = sorted(self.get_desserts())\n",
    "\n",
    "        _starters_name = [i.name for i in _starters]\n",
    "        _dishes_name = [i.name for i in _dishes]\n",
    "        _desserts_name = [i.name for i in _desserts]\n",
    "        a = \"\\n\".join(_starters_name)\n",
    "        b = \"\\n\".join(_dishes_name)\n",
    "        c = \"\\n\".join(_desserts_name)\n",
    "        result = 'STARTER\\n'+a+'\\n\\nDISH\\n'+b+'\\n\\nDESSERT\\n'+c\n",
    "        return result\n"
   ]
  },
  {
   "cell_type": "code",
   "execution_count": 17,
   "metadata": {},
   "outputs": [
    {
     "name": "stdout",
     "output_type": "stream",
     "text": [
      "One & Two\n"
     ]
    }
   ],
   "source": [
    "# test\n",
    "menu_1 = Menu(\"One\")\n",
    "menu_2 = Menu(\"Two\")\n",
    "menu_3 = menu_1 + menu_2\n",
    "print(menu_3.name)"
   ]
  },
  {
   "cell_type": "code",
   "execution_count": 18,
   "metadata": {},
   "outputs": [],
   "source": [
    "# test\n",
    "jedlo1 = Dish('eggs & mayonaise',1,'starter')\n",
    "jedlo2 = Dish('salad',2,'starter')\n",
    "\n",
    "jedlo3 = Dish('burger',7,'dish')\n",
    "jedlo4 = Dish('pizza',11,'dish')\n",
    "jedlo5 = Dish('coq au vin',15,'dish')\n",
    "\n",
    "jedlo6 = Dish('chocolate cookie',3,'dessert')\n",
    "jedlo7 = Dish('waffle',4,'dessert')\n",
    "\n",
    "my_menu = Menu(\"MyMenu\")\n",
    "\n",
    "my_menu.add_dish(jedlo1)\n",
    "my_menu.add_dish(jedlo2)\n",
    "my_menu.add_dish(jedlo3)\n",
    "my_menu.add_dish(jedlo4)\n",
    "my_menu.add_dish(jedlo5)\n",
    "my_menu.add_dish(jedlo6)\n",
    "my_menu.add_dish(jedlo7)"
   ]
  },
  {
   "cell_type": "code",
   "execution_count": 19,
   "metadata": {},
   "outputs": [
    {
     "name": "stdout",
     "output_type": "stream",
     "text": [
      "STARTER\n",
      "eggs & mayonaise\n",
      "salad\n",
      "\n",
      "DISH\n",
      "burger\n",
      "pizza\n",
      "coq au vin\n",
      "\n",
      "DESSERT\n",
      "chocolate cookie\n",
      "waffle\n"
     ]
    }
   ],
   "source": [
    "print(my_menu)"
   ]
  },
  {
   "cell_type": "code",
   "execution_count": null,
   "metadata": {},
   "outputs": [],
   "source": []
  }
 ],
 "metadata": {
  "kernelspec": {
   "display_name": "Python 3",
   "language": "python",
   "name": "python3"
  },
  "language_info": {
   "codemirror_mode": {
    "name": "ipython",
    "version": 3
   },
   "file_extension": ".py",
   "mimetype": "text/x-python",
   "name": "python",
   "nbconvert_exporter": "python",
   "pygments_lexer": "ipython3",
   "version": "3.11.1"
  },
  "orig_nbformat": 4
 },
 "nbformat": 4,
 "nbformat_minor": 2
}
