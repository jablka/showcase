{
 "cells": [
  {
   "cell_type": "code",
   "execution_count": 8,
   "metadata": {},
   "outputs": [],
   "source": [
    "# challenge https://www.hackinscience.org/exercises/temperature-class\n",
    "\n",
    "# Write a class to convert from Fahrenheit, Celsius, and Kelvins.\n",
    "\n",
    "# You'll have to use descriptors, so read the doc first.\n",
    "\n",
    "# You'll find conversions in the Wikipedia https://en.wikipedia.org/wiki/Conversion_of_scales_of_temperature"
   ]
  },
  {
   "cell_type": "code",
   "execution_count": 9,
   "metadata": {},
   "outputs": [],
   "source": [
    "# solution:\n",
    "\n",
    "class Temperature:\n",
    "    def __init__(self):\n",
    "        self.data = [None, None, None ] # kelvin, celsius, fahrenheit\n",
    "\n",
    "    @property\n",
    "    def kelvin(self):\n",
    "        return self.data[0]\n",
    "    \n",
    "    @kelvin.setter\n",
    "    def kelvin(self, value):\n",
    "        self.data[0] = value\n",
    "        self.data[1] = self.kelvin - 273.15 # K_to_C()\n",
    "        self.data[2] = self.kelvin*(9/5)-459.67  #  K_to_F() \n",
    "\n",
    "    @property\n",
    "    def celsius(self):\n",
    "        return self.data[1]\n",
    "\n",
    "    @celsius.setter\n",
    "    def celsius(self, value):\n",
    "        self.data[1] = value        \n",
    "        self.data[0] = self.celsius + 273.15 # C_to_K\n",
    "        self.data[2] = self.kelvin*(9/5)-459.67  # K_to_F\n",
    " \n",
    "    @property\n",
    "    def fahrenheit(self):\n",
    "        return self.data[2]\n",
    "\n",
    "    @fahrenheit.setter\n",
    "    def fahrenheit(self,value):\n",
    "        self.data[2] = value        \n",
    "        self.data[0] = (self.fahrenheit +459.67)*(5/9) # F_to_K\n",
    "        self.data[1] = self.kelvin - 273.15 # K_to_C        \n"
   ]
  },
  {
   "cell_type": "code",
   "execution_count": 10,
   "metadata": {},
   "outputs": [
    {
     "name": "stdout",
     "output_type": "stream",
     "text": [
      "-273.15\n",
      "-459.67\n"
     ]
    }
   ],
   "source": [
    "# test\n",
    "\n",
    "t1 = Temperature()\n",
    "\n",
    "t1.kelvin = 0\n",
    "\n",
    "print(t1.celsius)\n",
    "print(t1.fahrenheit)"
   ]
  },
  {
   "cell_type": "code",
   "execution_count": 11,
   "metadata": {},
   "outputs": [
    {
     "name": "stdout",
     "output_type": "stream",
     "text": [
      "323.15\n",
      "324.15\n",
      "323.15\n"
     ]
    }
   ],
   "source": [
    "# test\n",
    "\n",
    "t0 = Temperature()\n",
    "\n",
    "t0.celsius = 50\n",
    "print(t0.kelvin)\n",
    "\n",
    "t0.celsius += 1\n",
    "print(t0.kelvin)\n",
    "\n",
    "t0.kelvin -= 1\n",
    "print(t0.kelvin)"
   ]
  },
  {
   "cell_type": "code",
   "execution_count": null,
   "metadata": {},
   "outputs": [],
   "source": []
  }
 ],
 "metadata": {
  "kernelspec": {
   "display_name": "Python 3",
   "language": "python",
   "name": "python3"
  },
  "language_info": {
   "codemirror_mode": {
    "name": "ipython",
    "version": 3
   },
   "file_extension": ".py",
   "mimetype": "text/x-python",
   "name": "python",
   "nbconvert_exporter": "python",
   "pygments_lexer": "ipython3",
   "version": "3.11.1"
  },
  "orig_nbformat": 4
 },
 "nbformat": 4,
 "nbformat_minor": 2
}
