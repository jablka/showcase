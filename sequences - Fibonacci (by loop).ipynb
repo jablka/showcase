{
 "cells": [
  {
   "attachments": {},
   "cell_type": "markdown",
   "metadata": {},
   "source": [
    "# for loop:"
   ]
  },
  {
   "cell_type": "code",
   "execution_count": 1,
   "metadata": {},
   "outputs": [],
   "source": [
    "def fibonacci(n):\n",
    "    mylist = [ ]\n",
    "    for i in range(n+1):\n",
    "        if i <= 1: \n",
    "            mylist.append(i)\n",
    "        else:\n",
    "            mylist.append(mylist[i-1] + mylist[i-2])\n",
    "    mylist.pop(0) # popping the initial zero, although it can be included see https://en.wikipedia.org/wiki/Fibonacci_sequence\n",
    "    return mylist"
   ]
  },
  {
   "cell_type": "code",
   "execution_count": 2,
   "metadata": {},
   "outputs": [
    {
     "name": "stdout",
     "output_type": "stream",
     "text": [
      "[1, 1, 2, 3, 5, 8, 13, 21, 34, 55, 89, 144]\n"
     ]
    }
   ],
   "source": [
    "print(fibonacci(12))"
   ]
  },
  {
   "attachments": {},
   "cell_type": "markdown",
   "metadata": {},
   "source": [
    "# while loop:"
   ]
  },
  {
   "cell_type": "code",
   "execution_count": 3,
   "metadata": {},
   "outputs": [],
   "source": [
    "def fibonacci(n):\n",
    "    mylist = [ ]\n",
    "    i = 0\n",
    "    while i <= n:\n",
    "        if i <= 1: \n",
    "            mylist.append(i)\n",
    "        else:\n",
    "            mylist.append(mylist[i-1] + mylist[i-2])\n",
    "        i += 1\n",
    "    mylist.pop(0) # popping the initial zero, although it can be included see https://en.wikipedia.org/wiki/Fibonacci_sequence   \n",
    "    return mylist"
   ]
  },
  {
   "cell_type": "code",
   "execution_count": 4,
   "metadata": {},
   "outputs": [
    {
     "name": "stdout",
     "output_type": "stream",
     "text": [
      "[1, 1, 2, 3, 5, 8, 13, 21, 34, 55, 89, 144]\n"
     ]
    }
   ],
   "source": [
    "print(fibonacci(12))"
   ]
  },
  {
   "cell_type": "code",
   "execution_count": null,
   "metadata": {},
   "outputs": [],
   "source": []
  }
 ],
 "metadata": {
  "kernelspec": {
   "display_name": "Python 3",
   "language": "python",
   "name": "python3"
  },
  "language_info": {
   "codemirror_mode": {
    "name": "ipython",
    "version": 3
   },
   "file_extension": ".py",
   "mimetype": "text/x-python",
   "name": "python",
   "nbconvert_exporter": "python",
   "pygments_lexer": "ipython3",
   "version": "3.11.1"
  },
  "orig_nbformat": 4
 },
 "nbformat": 4,
 "nbformat_minor": 2
}
