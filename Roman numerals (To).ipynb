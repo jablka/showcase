{
 "cells": [
  {
   "cell_type": "code",
   "execution_count": 13,
   "metadata": {},
   "outputs": [],
   "source": [
    "# Convert number to Roman numeral\n",
    "\n",
    "# challenge https://www.hackinscience.org/exercises/roman-numerals\n",
    "\n",
    "# The largest number that can be represented in this manner is 3,999 (MMMCMXCIX) cf. https://en.wikipedia.org/wiki/Roman_numerals"
   ]
  },
  {
   "cell_type": "code",
   "execution_count": 14,
   "metadata": {},
   "outputs": [],
   "source": [
    "def to_roman_numeral(number):\n",
    "    \n",
    "    zostatok = number\n",
    "    result = [ ]\n",
    "     \n",
    "    letters = ['M','C','X','I']\n",
    "    enumer =  [1000,100,10,1]\n",
    "    letters_5 =['M', 'D','L','V']\n",
    "    #         [  0, 500, 50, 5]\n",
    "    z = 0\n",
    "\n",
    "    while z < len(enumer): \n",
    "\n",
    "        delene, zostatok = divmod(zostatok, enumer[z])    \n",
    "\n",
    "        if delene <= 3:  \n",
    "            result.append(delene*letters[z])\n",
    "\n",
    "        elif delene == 4:\n",
    "            result.append(letters[z] + letters_5[z])    \n",
    "\n",
    "        elif 5 <= delene <= 8:\n",
    "            result.append(letters_5[z] + (delene % 5)*letters[z])     \n",
    "\n",
    "        elif delene == 9:\n",
    "            result.append(letters[z] + letters[z-1])\n",
    "        \n",
    "        z +=1\n",
    "\n",
    "    # print(result)\n",
    "    return ''.join(result)"
   ]
  },
  {
   "cell_type": "code",
   "execution_count": 15,
   "metadata": {},
   "outputs": [],
   "source": [
    "assert to_roman_numeral(39) == 'XXXIX'\n",
    "assert to_roman_numeral(246) == 'CCXLVI'\n",
    "assert to_roman_numeral(789) == 'DCCLXXXIX'\n",
    "assert to_roman_numeral(2421) == 'MMCDXXI'\n",
    "assert to_roman_numeral(39) == 'XXXIX'"
   ]
  },
  {
   "cell_type": "code",
   "execution_count": 16,
   "metadata": {},
   "outputs": [
    {
     "name": "stdout",
     "output_type": "stream",
     "text": [
      "I\n",
      "II\n",
      "IV\n",
      "VIII\n",
      "XVI\n",
      "XXXII\n"
     ]
    }
   ],
   "source": [
    "print(to_roman_numeral(1))\n",
    "print(to_roman_numeral(2))\n",
    "print(to_roman_numeral(4))\n",
    "print(to_roman_numeral(8))\n",
    "print(to_roman_numeral(16))\n",
    "print(to_roman_numeral(32))"
   ]
  },
  {
   "cell_type": "code",
   "execution_count": 17,
   "metadata": {},
   "outputs": [
    {
     "name": "stdout",
     "output_type": "stream",
     "text": [
      "M\n",
      "MI\n",
      "MIV\n",
      "XIV\n",
      "XIX\n",
      "IX\n",
      "XCIX\n",
      "CM\n"
     ]
    }
   ],
   "source": [
    "print(to_roman_numeral(1000))\n",
    "print(to_roman_numeral(1001))\n",
    "print(to_roman_numeral(1004))\n",
    "print(to_roman_numeral(14))\n",
    "print(to_roman_numeral(19))\n",
    "print(to_roman_numeral(9))\n",
    "print(to_roman_numeral(99))\n",
    "print(to_roman_numeral(900))"
   ]
  },
  {
   "cell_type": "code",
   "execution_count": 18,
   "metadata": {},
   "outputs": [
    {
     "name": "stdout",
     "output_type": "stream",
     "text": [
      "IV\n",
      "V\n",
      "IX\n",
      "XC\n",
      "DIII\n",
      "DVI\n",
      "VII\n",
      "LXX\n"
     ]
    }
   ],
   "source": [
    "print(to_roman_numeral(4))\n",
    "print(to_roman_numeral(5))\n",
    "print(to_roman_numeral(9))\n",
    "print(to_roman_numeral(90))\n",
    "print(to_roman_numeral(503))\n",
    "print(to_roman_numeral(506))\n",
    "print(to_roman_numeral(7))\n",
    "print(to_roman_numeral(70))"
   ]
  },
  {
   "cell_type": "code",
   "execution_count": null,
   "metadata": {},
   "outputs": [],
   "source": []
  }
 ],
 "metadata": {
  "kernelspec": {
   "display_name": "Python 3",
   "language": "python",
   "name": "python3"
  },
  "language_info": {
   "codemirror_mode": {
    "name": "ipython",
    "version": 3
   },
   "file_extension": ".py",
   "mimetype": "text/x-python",
   "name": "python",
   "nbconvert_exporter": "python",
   "pygments_lexer": "ipython3",
   "version": "3.11.1"
  },
  "orig_nbformat": 4
 },
 "nbformat": 4,
 "nbformat_minor": 2
}
