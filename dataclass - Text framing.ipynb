{
 "cells": [
  {
   "cell_type": "code",
   "execution_count": 21,
   "metadata": {},
   "outputs": [],
   "source": [
    "# challenge from https://www.hackinscience.org/exercises/text-framing\n",
    "\n",
    "# dataclass usage"
   ]
  },
  {
   "cell_type": "code",
   "execution_count": 22,
   "metadata": {},
   "outputs": [],
   "source": [
    "from dataclasses import dataclass\n",
    "\n",
    "@dataclass\n",
    "class Frame:\n",
    "    top: str = \"-\"\n",
    "    left: str = \"|\"\n",
    "    bottom: str = \"-\"\n",
    "    right: str = \"|\"\n",
    "    top_left: str = \"+\"\n",
    "    top_right: str = \"+\"\n",
    "    bottom_left: str = \"+\"\n",
    "    bottom_right: str = \"+\"\n",
    "\n",
    "\n",
    "fancy_frame = Frame(\"─\", \"│\", \"─\", \"│\", \"╭\", \"╮\", \"╰\", \"╯\")\n",
    "invisible_frame = Frame(\" \", \" \", \" \", \" \", \" \", \" \", \" \", \" \")\n",
    "\n",
    "\n",
    "def frame_text(text: str, frame: Frame) -> str:\n",
    "    text_container = text.split(sep='\\n')\n",
    "    max_size = len(max(text_container, key=lambda x:len(x))) \n",
    "    buffer = [ ]\n",
    "    for n, line in enumerate(text_container):\n",
    "        if n==0:\n",
    "            s = frame.top_left + max_size*frame.top + frame.top_right\n",
    "            buffer.append(s)\n",
    "        \n",
    "        line_ = line.ljust(max_size)\n",
    "        s = frame.left + line_ + frame.right\n",
    "        buffer.append(s)\n",
    "\n",
    "        if n==len(text_container)-1: # last line in text_container\n",
    "            s = frame.bottom_left + max_size*frame.bottom + frame.bottom_right\n",
    "            buffer.append(s)\n",
    "\n",
    "    text = \"\\n\".join(buffer)\n",
    "    return text\n"
   ]
  },
  {
   "cell_type": "code",
   "execution_count": 23,
   "metadata": {},
   "outputs": [
    {
     "name": "stdout",
     "output_type": "stream",
     "text": [
      "╭───────────────╮\n",
      "│It is 16:04:37.│\n",
      "╰───────────────╯\n"
     ]
    }
   ],
   "source": [
    "s = 'It is 16:04:37.'\n",
    "print(frame_text(s,fancy_frame))"
   ]
  },
  {
   "cell_type": "code",
   "execution_count": 24,
   "metadata": {},
   "outputs": [
    {
     "name": "stdout",
     "output_type": "stream",
     "text": [
      "╭─────────────────╮\n",
      "│It is 16h19.     │\n",
      "│And it's raining.│\n",
      "╰─────────────────╯\n"
     ]
    }
   ],
   "source": [
    "text = \"\"\"It is 16h19.\n",
    "And it's raining.\"\"\"\n",
    "print(frame_text(text,fancy_frame))"
   ]
  },
  {
   "cell_type": "code",
   "execution_count": 25,
   "metadata": {},
   "outputs": [
    {
     "name": "stdout",
     "output_type": "stream",
     "text": [
      "╭───────────────────╮\n",
      "│╭─────────────────╮│\n",
      "││It is 16h19.     ││\n",
      "││And it's raining.││\n",
      "│╰─────────────────╯│\n",
      "╰───────────────────╯\n"
     ]
    }
   ],
   "source": [
    "text = \"\"\"It is 16h19.\n",
    "And it's raining.\"\"\"\n",
    "text = frame_text(text, fancy_frame)\n",
    "text = frame_text(text, fancy_frame)\n",
    "print(text)"
   ]
  },
  {
   "cell_type": "code",
   "execution_count": 26,
   "metadata": {},
   "outputs": [
    {
     "name": "stdout",
     "output_type": "stream",
     "text": [
      "╭─────────────────╮\n",
      "│                 │\n",
      "│ It is 12:12:03. │\n",
      "│                 │\n",
      "╰─────────────────╯\n"
     ]
    }
   ],
   "source": [
    "from datetime import datetime\n",
    "text = f\"It is {datetime.now():%H:%I:%S}.\"\n",
    "text = frame_text(text, invisible_frame)\n",
    "text = frame_text(text, fancy_frame)\n",
    "print(text)"
   ]
  },
  {
   "cell_type": "code",
   "execution_count": 27,
   "metadata": {},
   "outputs": [
    {
     "name": "stdout",
     "output_type": "stream",
     "text": [
      "╭─────────────╮\n",
      "│             │\n",
      "│      *      │\n",
      "│     ***     │\n",
      "│    *****    │\n",
      "│   *******   │\n",
      "│    *****    │\n",
      "│   *******   │\n",
      "│  *********  │\n",
      "│ *********** │\n",
      "│*************│\n",
      "│     |||     │\n",
      "│     |||     │\n",
      "╰─────────────╯\n"
     ]
    }
   ],
   "source": [
    "fir = \"\"\"\n",
    "      *\n",
    "     ***\n",
    "    *****\n",
    "   *******\n",
    "    *****\n",
    "   *******\n",
    "  *********\n",
    " ***********\n",
    "*************\n",
    "     |||\n",
    "     |||\"\"\"\n",
    "\n",
    "print(frame_text(fir, fancy_frame))"
   ]
  },
  {
   "cell_type": "code",
   "execution_count": null,
   "metadata": {},
   "outputs": [],
   "source": []
  }
 ],
 "metadata": {
  "kernelspec": {
   "display_name": "Python 3",
   "language": "python",
   "name": "python3"
  },
  "language_info": {
   "codemirror_mode": {
    "name": "ipython",
    "version": 3
   },
   "file_extension": ".py",
   "mimetype": "text/x-python",
   "name": "python",
   "nbconvert_exporter": "python",
   "pygments_lexer": "ipython3",
   "version": "3.11.1"
  },
  "orig_nbformat": 4
 },
 "nbformat": 4,
 "nbformat_minor": 2
}
