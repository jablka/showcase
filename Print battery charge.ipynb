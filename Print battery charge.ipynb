{
 "cells": [
  {
   "cell_type": "code",
   "execution_count": 16,
   "metadata": {},
   "outputs": [],
   "source": [
    "# challenge from https://www.hackinscience.org/exercises/print-battery-charge"
   ]
  },
  {
   "cell_type": "code",
   "execution_count": 17,
   "metadata": {},
   "outputs": [],
   "source": [
    "def battery_charge(n):\n",
    "    count = round(n/10)\n",
    "    char = '❚'\n",
    "    output = '['+(char*count).ljust(10)+']'\n",
    "    print(output)\n",
    "    print(f'{n}%')"
   ]
  },
  {
   "cell_type": "code",
   "execution_count": 18,
   "metadata": {},
   "outputs": [
    {
     "name": "stdout",
     "output_type": "stream",
     "text": [
      "[          ]\n",
      "0%\n"
     ]
    }
   ],
   "source": [
    "battery_charge(0)"
   ]
  },
  {
   "cell_type": "code",
   "execution_count": 19,
   "metadata": {},
   "outputs": [
    {
     "name": "stdout",
     "output_type": "stream",
     "text": [
      "[          ]\n",
      "5%\n"
     ]
    }
   ],
   "source": [
    "battery_charge(5)"
   ]
  },
  {
   "cell_type": "code",
   "execution_count": 20,
   "metadata": {},
   "outputs": [
    {
     "name": "stdout",
     "output_type": "stream",
     "text": [
      "[❚         ]\n",
      "9%\n"
     ]
    }
   ],
   "source": [
    "battery_charge(9)"
   ]
  },
  {
   "cell_type": "code",
   "execution_count": 21,
   "metadata": {},
   "outputs": [
    {
     "name": "stdout",
     "output_type": "stream",
     "text": [
      "[❚         ]\n",
      "11%\n"
     ]
    }
   ],
   "source": [
    "battery_charge(11)"
   ]
  },
  {
   "cell_type": "code",
   "execution_count": 22,
   "metadata": {},
   "outputs": [
    {
     "name": "stdout",
     "output_type": "stream",
     "text": [
      "[❚❚        ]\n",
      "20%\n"
     ]
    }
   ],
   "source": [
    "battery_charge(20)"
   ]
  },
  {
   "cell_type": "code",
   "execution_count": 23,
   "metadata": {},
   "outputs": [
    {
     "name": "stdout",
     "output_type": "stream",
     "text": [
      "[❚❚❚       ]\n",
      "34%\n"
     ]
    }
   ],
   "source": [
    "battery_charge(34)"
   ]
  },
  {
   "cell_type": "code",
   "execution_count": 24,
   "metadata": {},
   "outputs": [
    {
     "name": "stdout",
     "output_type": "stream",
     "text": [
      "[❚❚❚❚❚     ]\n",
      "54%\n"
     ]
    }
   ],
   "source": [
    "battery_charge(54)"
   ]
  },
  {
   "cell_type": "code",
   "execution_count": 25,
   "metadata": {},
   "outputs": [
    {
     "name": "stdout",
     "output_type": "stream",
     "text": [
      "[❚❚❚❚❚❚❚   ]\n",
      "68%\n"
     ]
    }
   ],
   "source": [
    "battery_charge(68)"
   ]
  },
  {
   "cell_type": "code",
   "execution_count": 26,
   "metadata": {},
   "outputs": [
    {
     "name": "stdout",
     "output_type": "stream",
     "text": [
      "[❚❚❚❚❚❚❚❚  ]\n",
      "75%\n"
     ]
    }
   ],
   "source": [
    "battery_charge(75)"
   ]
  },
  {
   "cell_type": "code",
   "execution_count": 27,
   "metadata": {},
   "outputs": [
    {
     "name": "stdout",
     "output_type": "stream",
     "text": [
      "[❚❚❚❚❚❚❚❚❚ ]\n",
      "86%\n"
     ]
    }
   ],
   "source": [
    "battery_charge(86)"
   ]
  },
  {
   "cell_type": "code",
   "execution_count": 28,
   "metadata": {},
   "outputs": [
    {
     "name": "stdout",
     "output_type": "stream",
     "text": [
      "[❚❚❚❚❚❚❚❚❚❚]\n",
      "100%\n"
     ]
    }
   ],
   "source": [
    "battery_charge(100)"
   ]
  },
  {
   "cell_type": "code",
   "execution_count": null,
   "metadata": {},
   "outputs": [],
   "source": []
  }
 ],
 "metadata": {
  "kernelspec": {
   "display_name": "Python 3",
   "language": "python",
   "name": "python3"
  },
  "language_info": {
   "codemirror_mode": {
    "name": "ipython",
    "version": 3
   },
   "file_extension": ".py",
   "mimetype": "text/x-python",
   "name": "python",
   "nbconvert_exporter": "python",
   "pygments_lexer": "ipython3",
   "version": "3.11.1"
  },
  "orig_nbformat": 4
 },
 "nbformat": 4,
 "nbformat_minor": 2
}
